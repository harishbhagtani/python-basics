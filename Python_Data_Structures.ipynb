{
  "nbformat": 4,
  "nbformat_minor": 0,
  "metadata": {
    "colab": {
      "name": "Python Data Structures.ipynb",
      "provenance": [],
      "include_colab_link": true
    },
    "kernelspec": {
      "name": "python3",
      "display_name": "Python 3"
    }
  },
  "cells": [
    {
      "cell_type": "markdown",
      "metadata": {
        "id": "view-in-github",
        "colab_type": "text"
      },
      "source": [
        "<a href=\"https://colab.research.google.com/github/harishbhagtani/python-basics/blob/master/Python_Data_Structures.ipynb\" target=\"_parent\"><img src=\"https://colab.research.google.com/assets/colab-badge.svg\" alt=\"Open In Colab\"/></a>"
      ]
    },
    {
      "cell_type": "markdown",
      "metadata": {
        "id": "cIL_LP2L9N8k",
        "colab_type": "text"
      },
      "source": [
        "#**Python Data Structures**\n",
        "\n",
        "**Data Structure**\n",
        "it is a collection of data elements(such as numbers, characters or even data structures) that is structured in some way. For example, lists, tuples, sequence, etc.\n",
        "\n",
        "#**1. Lists**\n",
        "\n",
        "\n",
        "* One of the sequence data structure\n",
        "* Collection of items in like strings, numbers, etc in python\n",
        "* Enclose with square brackets []\n",
        "* Each item in list is assinged index value\n",
        "* Index values starts from zero(0)\n",
        "* List items are seperated by comma(,)\n",
        "* List items are mutable and can be changed\n",
        "* A single list can have multiple data types\n",
        "\n",
        "\n",
        "\n",
        "\n",
        "\n"
      ]
    },
    {
      "cell_type": "code",
      "metadata": {
        "id": "l_DSD3Lw8r8U",
        "colab_type": "code",
        "colab": {}
      },
      "source": [
        "#Creation of an empty list\n",
        "emptyList = []\n",
        "lst1 = [1,2,3,4,5] #List of integers\n",
        "lst2 = [[1,2,3,4],[1,2,3]] #List of list\n",
        "lst2 = [\"Harry\", \"Amit\", \"Suyash\",\"Akash\"] #List of strings\n",
        "lst3 = [1,2,\"Harry\",2.3] #List of multiple data types"
      ],
      "execution_count": 0,
      "outputs": []
    },
    {
      "cell_type": "markdown",
      "metadata": {
        "id": "nq2R8EEMCAzl",
        "colab_type": "text"
      },
      "source": [
        "* We use **len()** to get the **length** of list"
      ]
    },
    {
      "cell_type": "code",
      "metadata": {
        "id": "53bBIyPZBxvd",
        "colab_type": "code",
        "outputId": "9fb9ba5f-d2dc-4a93-82c8-60d0fdd0e46a",
        "colab": {
          "base_uri": "https://localhost:8080/",
          "height": 34
        }
      },
      "source": [
        "#Example to print length of a list\n",
        "lst = [1,2,3,4,5]\n",
        "print(len(lst))"
      ],
      "execution_count": 0,
      "outputs": [
        {
          "output_type": "stream",
          "text": [
            "5\n"
          ],
          "name": "stdout"
        }
      ]
    },
    {
      "cell_type": "markdown",
      "metadata": {
        "id": "UFIXS80VCJkz",
        "colab_type": "text"
      },
      "source": [
        "* We use **append()** to **add element** to an already created list"
      ]
    },
    {
      "cell_type": "code",
      "metadata": {
        "id": "EZHt17feCNiu",
        "colab_type": "code",
        "outputId": "c563ea44-6c8d-42b0-b2a8-238f9a09f487",
        "colab": {
          "base_uri": "https://localhost:8080/",
          "height": 51
        }
      },
      "source": [
        "#Example to add element to list\n",
        "print(\"Prev list : \", lst)\n",
        "lst.append(2)\n",
        "lst.append(\"Harish\")\n",
        "print(\"New list : \",lst)"
      ],
      "execution_count": 0,
      "outputs": [
        {
          "output_type": "stream",
          "text": [
            "Prev list :  [1, 2, 3, 4, 5]\n",
            "New list :  [1, 2, 3, 4, 5, 2, 'Harish']\n"
          ],
          "name": "stdout"
        }
      ]
    },
    {
      "cell_type": "markdown",
      "metadata": {
        "id": "ov-2xbmJFXM2",
        "colab_type": "text"
      },
      "source": [
        "**append()** method can also be used to add one **list** to another. In this, the items will be added in form of single element as a list."
      ]
    },
    {
      "cell_type": "code",
      "metadata": {
        "id": "GhuPEfEuFkkx",
        "colab_type": "code",
        "outputId": "a4dc28f3-be1d-43e4-a60d-ed1dd16a41c7",
        "colab": {
          "base_uri": "https://localhost:8080/",
          "height": 51
        }
      },
      "source": [
        "#Example to appending one list to another\n",
        "prevList = [1,2,3,4]\n",
        "newList = [5,6,7,8]\n",
        "print(\"Prev List : \", prevList)\n",
        "prevList.append(newList)\n",
        "print(\"New List : \", prevList)"
      ],
      "execution_count": 0,
      "outputs": [
        {
          "output_type": "stream",
          "text": [
            "Prev List :  [1, 2, 3, 4]\n",
            "New List :  [1, 2, 3, 4, [5, 6, 7, 8]]\n"
          ],
          "name": "stdout"
        }
      ]
    },
    {
      "cell_type": "markdown",
      "metadata": {
        "id": "w5SAmahdGMPZ",
        "colab_type": "text"
      },
      "source": [
        "* **extend()** is used to **append** one list to another list. In this, items will be added as seperate elements in the list.\n"
      ]
    },
    {
      "cell_type": "code",
      "metadata": {
        "id": "LwwZKp4QGTVz",
        "colab_type": "code",
        "outputId": "1f950af9-74f1-4f53-a2d5-399f0e8e3670",
        "colab": {
          "base_uri": "https://localhost:8080/",
          "height": 51
        }
      },
      "source": [
        "#Example to extend() in list to append one list to another\n",
        "prevList = [1,2,3,4]\n",
        "print(\"Prev List : \", prevList)\n",
        "prevList.extend(newList)\n",
        "print(\"New List : \", prevList)"
      ],
      "execution_count": 0,
      "outputs": [
        {
          "output_type": "stream",
          "text": [
            "Prev List :  [1, 2, 3, 4]\n",
            "New List :  [1, 2, 3, 4, 5, 6, 7, 8]\n"
          ],
          "name": "stdout"
        }
      ]
    },
    {
      "cell_type": "markdown",
      "metadata": {
        "id": "9eSvOI6xeAMb",
        "colab_type": "text"
      },
      "source": [
        "We can also extern a list using \" + \" key "
      ]
    },
    {
      "cell_type": "code",
      "metadata": {
        "id": "vX33n9yTeQHt",
        "colab_type": "code",
        "outputId": "a0df3cf9-2cec-4148-b42a-25cad802829a",
        "colab": {
          "base_uri": "https://localhost:8080/",
          "height": 34
        }
      },
      "source": [
        "#Example of extending a list using +\n",
        "lst1 = [1,2,3,4]\n",
        "lst2 = [5,6,7,8]\n",
        "lst1 = lst1 + lst2\n",
        "print(\"joined list is : \", lst1)"
      ],
      "execution_count": 0,
      "outputs": [
        {
          "output_type": "stream",
          "text": [
            "joined list is :  [1, 2, 3, 4, 5, 6, 7, 8]\n"
          ],
          "name": "stdout"
        }
      ]
    },
    {
      "cell_type": "markdown",
      "metadata": {
        "id": "b48r3pl4CqxX",
        "colab_type": "text"
      },
      "source": [
        "* We use **insert(index, item)** to insert an element to a **particular index** in the list"
      ]
    },
    {
      "cell_type": "code",
      "metadata": {
        "id": "pRrvAfVXCy1l",
        "colab_type": "code",
        "outputId": "df7b87c2-cdca-4b01-f10c-60af50eb4598",
        "colab": {
          "base_uri": "https://localhost:8080/",
          "height": 51
        }
      },
      "source": [
        "#Example of insert()\n",
        "print(\"Previous List : \", lst)\n",
        "lst.insert(2, \"New Element at 2\")\n",
        "print(\"New List : \", lst)"
      ],
      "execution_count": 0,
      "outputs": [
        {
          "output_type": "stream",
          "text": [
            "Previous List :  [1, 2, 3, 4, 5, 2, 'Harish']\n",
            "New List :  [1, 2, 'New Element at 2', 3, 4, 5, 2, 'Harish']\n"
          ],
          "name": "stdout"
        }
      ]
    },
    {
      "cell_type": "markdown",
      "metadata": {
        "id": "MWQYC4TxDuC6",
        "colab_type": "text"
      },
      "source": [
        "* We use **remove(item)** function to remove an element from list. We can only pass **one item** at a time in **remove(item)**.\n"
      ]
    },
    {
      "cell_type": "code",
      "metadata": {
        "id": "TIPD3k5jD02r",
        "colab_type": "code",
        "outputId": "0eacf89f-083e-4435-9999-c63d720675c0",
        "colab": {
          "base_uri": "https://localhost:8080/",
          "height": 51
        }
      },
      "source": [
        "#Example to remove an element from list\n",
        "lst = [1,2,3,4]\n",
        "print(\"Prev list : \", lst)\n",
        "lst.remove(2)\n",
        "print(\"New List : \", lst)"
      ],
      "execution_count": 0,
      "outputs": [
        {
          "output_type": "stream",
          "text": [
            "Prev list :  [1, 2, 3, 4]\n",
            "New List :  [1, 3, 4]\n"
          ],
          "name": "stdout"
        }
      ]
    },
    {
      "cell_type": "markdown",
      "metadata": {
        "id": "tl9Bj5MoEsH-",
        "colab_type": "text"
      },
      "source": [
        "If there are two occurances of an element in list, **remove()** only removes the **first occurance** of that element in the list."
      ]
    },
    {
      "cell_type": "code",
      "metadata": {
        "id": "QXO_6pLZEyMR",
        "colab_type": "code",
        "outputId": "a25d681e-41b6-4952-aa51-571cf46c3e62",
        "colab": {
          "base_uri": "https://localhost:8080/",
          "height": 51
        }
      },
      "source": [
        "#Example to remove first occurance of an element from list\n",
        "lst = [2,3,4,2,5,7]\n",
        "print(\"Prev List : \", lst)\n",
        "lst.remove(2)\n",
        "print(\"New List : \", lst)"
      ],
      "execution_count": 0,
      "outputs": [
        {
          "output_type": "stream",
          "text": [
            "Prev List :  [2, 3, 4, 2, 5, 7]\n",
            "New List :  [3, 4, 2, 5, 7]\n"
          ],
          "name": "stdout"
        }
      ]
    },
    {
      "cell_type": "markdown",
      "metadata": {
        "id": "GTxjvrlBIx3R",
        "colab_type": "text"
      },
      "source": [
        "* We use **del** to delete item at a certain **index** "
      ]
    },
    {
      "cell_type": "code",
      "metadata": {
        "id": "ZUl8_R6uJD1T",
        "colab_type": "code",
        "outputId": "ddd08878-93dd-42c4-ecd8-05e21680c36a",
        "colab": {
          "base_uri": "https://localhost:8080/",
          "height": 51
        }
      },
      "source": [
        "#Example to delete item at a cretain index from list\n",
        "print(\"Prev List : \", lst)\n",
        "del lst[3]\n",
        "print(\"New List : \", lst)"
      ],
      "execution_count": 0,
      "outputs": [
        {
          "output_type": "stream",
          "text": [
            "Prev List :  [3, 4, 5, 7]\n",
            "New List :  [3, 4, 5]\n"
          ],
          "name": "stdout"
        }
      ]
    },
    {
      "cell_type": "markdown",
      "metadata": {
        "id": "eCYVcyQJJtpT",
        "colab_type": "text"
      },
      "source": [
        " We can also use **pop()** to **delete** item at a **certain index**. **pop()** returns the item that was deleted."
      ]
    },
    {
      "cell_type": "code",
      "metadata": {
        "id": "e_WY9LG6J0SH",
        "colab_type": "code",
        "outputId": "d4322240-5fc9-47c1-8e72-56b64c99113d",
        "colab": {
          "base_uri": "https://localhost:8080/",
          "height": 68
        }
      },
      "source": [
        "#Examole to deleting an element using pop()\n",
        "print(\"Prev List : \", lst)\n",
        "deletedItem = lst.pop(1)\n",
        "print(\"New List : \", lst)\n",
        "print(\"Deleted Item : \", deletedItem)"
      ],
      "execution_count": 0,
      "outputs": [
        {
          "output_type": "stream",
          "text": [
            "Prev List :  [3, 5]\n",
            "New List :  [3]\n",
            "Deleted Item :  5\n"
          ],
          "name": "stdout"
        }
      ]
    },
    {
      "cell_type": "markdown",
      "metadata": {
        "id": "mRhabu30PBMw",
        "colab_type": "text"
      },
      "source": [
        "* **in** and **not in** keywords are used to check whether an element exists in a list or not"
      ]
    },
    {
      "cell_type": "code",
      "metadata": {
        "id": "5rnrarNDPjlf",
        "colab_type": "code",
        "outputId": "555ba23b-1d32-4755-8bc8-45529e5213fd",
        "colab": {
          "base_uri": "https://localhost:8080/",
          "height": 34
        }
      },
      "source": [
        "#Example of in and not in keywords\n",
        "lst = [1,2,3,4]\n",
        "if 1 in lst : \n",
        "  print(\"1 is present in list\")\n",
        "else : \n",
        "  print(\"1 is not in list\")"
      ],
      "execution_count": 0,
      "outputs": [
        {
          "output_type": "stream",
          "text": [
            "1 is present in list\n"
          ],
          "name": "stdout"
        }
      ]
    },
    {
      "cell_type": "markdown",
      "metadata": {
        "id": "SI0zUhuRP0y-",
        "colab_type": "text"
      },
      "source": [
        "* **reverse()** is used to **reverse** a list."
      ]
    },
    {
      "cell_type": "code",
      "metadata": {
        "id": "Yg7LlfDTQaZT",
        "colab_type": "code",
        "outputId": "db34e400-9c11-4d10-be8d-dcb263c75540",
        "colab": {
          "base_uri": "https://localhost:8080/",
          "height": 51
        }
      },
      "source": [
        "#Example of reversing a list\n",
        "print(\"Prev List : \", lst)\n",
        "lst.reverse()\n",
        "print(\"New Reversed List : \", lst)"
      ],
      "execution_count": 0,
      "outputs": [
        {
          "output_type": "stream",
          "text": [
            "Prev List :  [4, 3, 2, 1]\n",
            "New Reversed List :  [1, 2, 3, 4]\n"
          ],
          "name": "stdout"
        }
      ]
    },
    {
      "cell_type": "markdown",
      "metadata": {
        "id": "BAXMN1-gQtWv",
        "colab_type": "text"
      },
      "source": [
        "* **sorted(list)** function is used to **sort** a list. It takes a **list** as an argument and returns the **sorted list**."
      ]
    },
    {
      "cell_type": "code",
      "metadata": {
        "id": "oldp9TGFQ2dh",
        "colab_type": "code",
        "outputId": "c9042f31-2c17-41f9-9f6c-d666732a914f",
        "colab": {
          "base_uri": "https://localhost:8080/",
          "height": 68
        }
      },
      "source": [
        "#Example of sorting a list\n",
        "lst = [2,8,4,6,2,3,9,0,3]\n",
        "print(\"Prev List : \", lst)\n",
        "lst = sorted(lst)\n",
        "print(\"Sorted List in ascending order : \", lst)\n",
        "#Put reversed = true for descending order\n",
        "lst = sorted(lst, reverse = True)\n",
        "print(\"Sorted list in descending order : \", lst)\n"
      ],
      "execution_count": 0,
      "outputs": [
        {
          "output_type": "stream",
          "text": [
            "Prev List :  [2, 8, 4, 6, 2, 3, 9, 0, 3]\n",
            "Sorted List in ascending order :  [0, 2, 2, 3, 3, 4, 6, 8, 9]\n",
            "Sorted list in descending order :  [9, 8, 6, 4, 3, 3, 2, 2, 0]\n"
          ],
          "name": "stdout"
        }
      ]
    },
    {
      "cell_type": "markdown",
      "metadata": {
        "id": "450Fz1oCSfeY",
        "colab_type": "text"
      },
      "source": [
        "We can also sort the list by just calling **sort()** function of the **list object**."
      ]
    },
    {
      "cell_type": "code",
      "metadata": {
        "id": "SF7tAjAuTQyo",
        "colab_type": "code",
        "outputId": "2d091d08-83f7-44fe-f924-2d62308d5331",
        "colab": {
          "base_uri": "https://localhost:8080/",
          "height": 51
        }
      },
      "source": [
        "#Example of using sort()\n",
        "lst = [1,5,3,4]\n",
        "print(\"Unsorted List : \", lst)\n",
        "lst.sort()\n",
        "print(\"Sorted list : \", lst)"
      ],
      "execution_count": 0,
      "outputs": [
        {
          "output_type": "stream",
          "text": [
            "Unsorted List :  [1, 5, 3, 4]\n",
            "Sorted list :  [1, 3, 4, 5]\n"
          ],
          "name": "stdout"
        }
      ]
    },
    {
      "cell_type": "markdown",
      "metadata": {
        "id": "VsBmAH6PTkHH",
        "colab_type": "text"
      },
      "source": [
        "We cannot call sort() on lists with different data types like : Numbers combined with strings"
      ]
    },
    {
      "cell_type": "code",
      "metadata": {
        "id": "ZopmMmNAT7HE",
        "colab_type": "code",
        "outputId": "ed7d55f0-520f-4023-eaf3-38e73a4ff07f",
        "colab": {
          "base_uri": "https://localhost:8080/",
          "height": 181
        }
      },
      "source": [
        "combinedlist = [1,2,7,4,\"1\",5,\"b\"]\n",
        "combinedlist.sort()"
      ],
      "execution_count": 0,
      "outputs": [
        {
          "output_type": "error",
          "ename": "TypeError",
          "evalue": "ignored",
          "traceback": [
            "\u001b[0;31m---------------------------------------------------------------------------\u001b[0m",
            "\u001b[0;31mTypeError\u001b[0m                                 Traceback (most recent call last)",
            "\u001b[0;32m<ipython-input-26-af41f9decfbf>\u001b[0m in \u001b[0;36m<module>\u001b[0;34m()\u001b[0m\n\u001b[1;32m      1\u001b[0m \u001b[0mcombinedlist\u001b[0m \u001b[0;34m=\u001b[0m \u001b[0;34m[\u001b[0m\u001b[0;36m1\u001b[0m\u001b[0;34m,\u001b[0m\u001b[0;36m2\u001b[0m\u001b[0;34m,\u001b[0m\u001b[0;36m7\u001b[0m\u001b[0;34m,\u001b[0m\u001b[0;36m4\u001b[0m\u001b[0;34m,\u001b[0m\u001b[0;34m\"1\"\u001b[0m\u001b[0;34m,\u001b[0m\u001b[0;36m5\u001b[0m\u001b[0;34m,\u001b[0m\u001b[0;34m\"b\"\u001b[0m\u001b[0;34m]\u001b[0m\u001b[0;34m\u001b[0m\u001b[0;34m\u001b[0m\u001b[0m\n\u001b[0;32m----> 2\u001b[0;31m \u001b[0mcombinedlist\u001b[0m\u001b[0;34m.\u001b[0m\u001b[0msort\u001b[0m\u001b[0;34m(\u001b[0m\u001b[0;34m)\u001b[0m\u001b[0;34m\u001b[0m\u001b[0;34m\u001b[0m\u001b[0m\n\u001b[0m",
            "\u001b[0;31mTypeError\u001b[0m: '<' not supported between instances of 'str' and 'int'"
          ]
        }
      ]
    },
    {
      "cell_type": "markdown",
      "metadata": {
        "id": "jnR7YRPkUFg7",
        "colab_type": "text"
      },
      "source": [
        "* We can use **split**() to split a **string** into a **list**. We have to pass split character to the split(). If we don't pass any character, default argument will be \" \" (space) character."
      ]
    },
    {
      "cell_type": "code",
      "metadata": {
        "id": "L-PIHqtibQ5G",
        "colab_type": "code",
        "outputId": "b8f16083-185b-43e1-d4e8-00695ec2f0dd",
        "colab": {
          "base_uri": "https://localhost:8080/",
          "height": 34
        }
      },
      "source": [
        "#Example of using split method\n",
        "paragraph = \"My name is Harish\"\n",
        "paragraphList = paragraph.split()\n",
        "print(\"The paragrahph list is : \", paragraphList)"
      ],
      "execution_count": 0,
      "outputs": [
        {
          "output_type": "stream",
          "text": [
            "The paragrahph list is :  ['My', 'name', 'is', 'Harish']\n"
          ],
          "name": "stdout"
        }
      ]
    },
    {
      "cell_type": "markdown",
      "metadata": {
        "id": "8OW0Cqo0cApU",
        "colab_type": "text"
      },
      "source": [
        "**List Slicing : To access a particular section of list**\n",
        "\n",
        "For example, there is a list with 10 elements and we have to access from element 2 to 6, means a segment of the list, then we can use list slicing.\n",
        "\n",
        "\n",
        "\n",
        "```\n",
        "For example we have to get the values from index m to n\n",
        "syntax : list[m : n + 1]\n",
        "```\n",
        "\n"
      ]
    },
    {
      "cell_type": "code",
      "metadata": {
        "id": "0cNZyRAYcYLw",
        "colab_type": "code",
        "outputId": "9c0024eb-ec62-482c-f30f-b7b18b9c925f",
        "colab": {
          "base_uri": "https://localhost:8080/",
          "height": 34
        }
      },
      "source": [
        "#Example of list slicing\n",
        "lst = [0,1,2,3,4,5,6,7,8,9]\n",
        "newLst = lst[2:6]\n",
        "print(\"New Sliced list is : \", newLst)"
      ],
      "execution_count": 0,
      "outputs": [
        {
          "output_type": "stream",
          "text": [
            "New Sliced list is :  [2, 3, 4, 5]\n"
          ],
          "name": "stdout"
        }
      ]
    },
    {
      "cell_type": "code",
      "metadata": {
        "id": "vuMNiwZbdNIy",
        "colab_type": "code",
        "outputId": "6e327c96-1a5d-4a3a-bca4-e81d0140b3d9",
        "colab": {
          "base_uri": "https://localhost:8080/",
          "height": 34
        }
      },
      "source": [
        "#Example to print alternate elements of a list\n",
        "print(\"Alternate elemenets : \", lst[::2])"
      ],
      "execution_count": 0,
      "outputs": [
        {
          "output_type": "stream",
          "text": [
            "Alternate elemenets :  [0, 2, 4, 6, 8]\n"
          ],
          "name": "stdout"
        }
      ]
    },
    {
      "cell_type": "code",
      "metadata": {
        "id": "wKmJY45Zdbp9",
        "colab_type": "code",
        "outputId": "9c3013c8-1b83-46c2-b0b0-ed3c0e406a61",
        "colab": {
          "base_uri": "https://localhost:8080/",
          "height": 34
        }
      },
      "source": [
        "#If we want a start point of printing alternate elements then\n",
        "print(\"Alternate elements from index 4\", lst[4::2])"
      ],
      "execution_count": 0,
      "outputs": [
        {
          "output_type": "stream",
          "text": [
            "Alternate elements from index 4 [4, 6, 8]\n"
          ],
          "name": "stdout"
        }
      ]
    },
    {
      "cell_type": "markdown",
      "metadata": {
        "id": "42Y88Zr3kWij",
        "colab_type": "text"
      },
      "source": [
        "* **count()** is used to **count** the **occurance** of particular element in List"
      ]
    },
    {
      "cell_type": "code",
      "metadata": {
        "id": "fZ0B5H60ki_-",
        "colab_type": "code",
        "outputId": "2c084719-4598-4d2f-a4bb-7e76ae0b37f9",
        "colab": {
          "base_uri": "https://localhost:8080/",
          "height": 34
        }
      },
      "source": [
        "#Example of count()\n",
        "lst = [1,2,2,4,5,8,2]\n",
        "occurance2 = lst.count(2)\n",
        "print(\"Occurances of 2 : \", occurance2)"
      ],
      "execution_count": 0,
      "outputs": [
        {
          "output_type": "stream",
          "text": [
            "Occurances of 2 :  3\n"
          ],
          "name": "stdout"
        }
      ]
    },
    {
      "cell_type": "markdown",
      "metadata": {
        "id": "SbAMHMR9mSjd",
        "colab_type": "text"
      },
      "source": [
        "#**2. Tuples**\n",
        "\n",
        "* Tuple is also an important data type in python\n",
        "* We cannot change the data after assigning it to tuple, whereas elements in the list can be changed. Hence, tuple is **immutable**.\n",
        "* As elements in a tuple are **immutable**, we **cannot delete** an element of a tuple. But we can delete an entire tupele using **del** keyword.\n",
        "\n",
        "\n",
        "```\n",
        "tpl1 = (1,2,3,4,5)\n",
        "del tpl1\n",
        "```\n",
        "\n",
        "\n",
        "* We can create a tuple using **paranthese** ().\n",
        "* Tuples can also have **multiple data types**, just like lists.\n",
        "* There can be other tuples as the element of a tuple. **(Nested Tuple)**\n"
      ]
    },
    {
      "cell_type": "code",
      "metadata": {
        "id": "G2dJs97Ey_fi",
        "colab_type": "code",
        "outputId": "520b4159-94a0-4306-aedb-6dc6a516cc6e",
        "colab": {
          "base_uri": "https://localhost:8080/",
          "height": 34
        }
      },
      "source": [
        "tple = (1,2,3,4, \"Harish\",(1,2,3))\n",
        "print(\"Tuple : \", tple)"
      ],
      "execution_count": 0,
      "outputs": [
        {
          "output_type": "stream",
          "text": [
            "Tuple :  (1, 2, 3, 4, 'Harish', (1, 2, 3))\n"
          ],
          "name": "stdout"
        }
      ]
    },
    {
      "cell_type": "markdown",
      "metadata": {
        "id": "7o4ybRLkz8jg",
        "colab_type": "text"
      },
      "source": [
        "* Even if there is only **one element** in a tuple, it should have a **comma**. otherwise it will be considered **as a string**."
      ]
    },
    {
      "cell_type": "code",
      "metadata": {
        "id": "jDFoIrAg0DiP",
        "colab_type": "code",
        "outputId": "8d18f7a5-5f8a-4e32-ebe0-62cb594c4928",
        "colab": {
          "base_uri": "https://localhost:8080/",
          "height": 51
        }
      },
      "source": [
        "#Example\n",
        "tpl1 = (\"String\") #Without comma it will be considered as String\n",
        "print(\"Type of tuple 1 : \", type(tpl1)) #This will be taken as string\n",
        "tpl2 = (\"String\",)\n",
        "print(\"Type of tuple 2 : \", type(tpl2)) #This will be taken as tuple"
      ],
      "execution_count": 0,
      "outputs": [
        {
          "output_type": "stream",
          "text": [
            "Type of tuple 1 :  <class 'str'>\n",
            "Type of tuple 2 :  <class 'tuple'>\n"
          ],
          "name": "stdout"
        }
      ]
    },
    {
      "cell_type": "markdown",
      "metadata": {
        "id": "VBBAHs4V0m-S",
        "colab_type": "text"
      },
      "source": [
        "* **Paranthesis** is **optional** in tuple."
      ]
    },
    {
      "cell_type": "code",
      "metadata": {
        "id": "NJLWn3pX0s8U",
        "colab_type": "code",
        "outputId": "d4457c98-ef2c-4f86-86c0-e4742dd32cc8",
        "colab": {
          "base_uri": "https://localhost:8080/",
          "height": 34
        }
      },
      "source": [
        "#Example\n",
        "tpl1 = \"Harish\",\"Suyash\" #This will be considered as tuple even without (paranthesis)\n",
        "print(\"Type is : \", type(tpl1), \" \", tpl1)"
      ],
      "execution_count": 0,
      "outputs": [
        {
          "output_type": "stream",
          "text": [
            "Type is :  <class 'tuple'>   ('Harish', 'Suyash')\n"
          ],
          "name": "stdout"
        }
      ]
    },
    {
      "cell_type": "markdown",
      "metadata": {
        "id": "igiaYOs51cnE",
        "colab_type": "text"
      },
      "source": [
        "* Elements can be **accessed** in tuples using index in **square braces [0]**"
      ]
    },
    {
      "cell_type": "code",
      "metadata": {
        "id": "mvTnHECN1h8c",
        "colab_type": "code",
        "outputId": "bc11c3d1-0427-4d94-a7e5-e46f6a542593",
        "colab": {
          "base_uri": "https://localhost:8080/",
          "height": 51
        }
      },
      "source": [
        "print(\"Given tuple : \", tpl1)\n",
        "print(\"Element at index 0 : \",tpl1[0])"
      ],
      "execution_count": 0,
      "outputs": [
        {
          "output_type": "stream",
          "text": [
            "Given tuple :  ('Harish', 'Suyash')\n",
            "Element at index 0 :  Harish\n"
          ],
          "name": "stdout"
        }
      ]
    },
    {
      "cell_type": "markdown",
      "metadata": {
        "id": "_932rMRK2NoR",
        "colab_type": "text"
      },
      "source": [
        "* Elements in a tuple can be **sliced** same as lists\n"
      ]
    },
    {
      "cell_type": "code",
      "metadata": {
        "id": "YsG_ppwO2TVZ",
        "colab_type": "code",
        "outputId": "7e3e7471-ad6c-4338-ed4e-9cb690f4f5d5",
        "colab": {
          "base_uri": "https://localhost:8080/",
          "height": 34
        }
      },
      "source": [
        "tpl1 = (1,2,3,4,5,6)\n",
        "print(\"Elements from index 1 to 4 is \", tpl1[1:5])"
      ],
      "execution_count": 0,
      "outputs": [
        {
          "output_type": "stream",
          "text": [
            "Elements from index 1 to 4 is  (2, 3, 4, 5)\n"
          ],
          "name": "stdout"
        }
      ]
    },
    {
      "cell_type": "markdown",
      "metadata": {
        "id": "47pYL_Yv24ww",
        "colab_type": "text"
      },
      "source": [
        "* **CHANGING TUPLES : Tuples are immutable**\n",
        "\n",
        "Tuples **cannot** be changed. But if it's elements are **mutable items** like **lists**, they **can be changed**"
      ]
    },
    {
      "cell_type": "code",
      "metadata": {
        "id": "dug4NsZg3Om-",
        "colab_type": "code",
        "outputId": "b086e007-9cc8-4b92-d594-ddf6b1014278",
        "colab": {
          "base_uri": "https://localhost:8080/",
          "height": 181
        }
      },
      "source": [
        "#Example of attempting to change tuple data\n",
        "tpl1 = (1,2,3,4)\n",
        "tpl[2] = 3"
      ],
      "execution_count": 0,
      "outputs": [
        {
          "output_type": "error",
          "ename": "NameError",
          "evalue": "ignored",
          "traceback": [
            "\u001b[0;31m---------------------------------------------------------------------------\u001b[0m",
            "\u001b[0;31mNameError\u001b[0m                                 Traceback (most recent call last)",
            "\u001b[0;32m<ipython-input-51-0e845315c398>\u001b[0m in \u001b[0;36m<module>\u001b[0;34m()\u001b[0m\n\u001b[1;32m      1\u001b[0m \u001b[0mtpl1\u001b[0m \u001b[0;34m=\u001b[0m \u001b[0;34m(\u001b[0m\u001b[0;36m1\u001b[0m\u001b[0;34m,\u001b[0m\u001b[0;36m2\u001b[0m\u001b[0;34m,\u001b[0m\u001b[0;36m3\u001b[0m\u001b[0;34m,\u001b[0m\u001b[0;36m4\u001b[0m\u001b[0;34m)\u001b[0m\u001b[0;34m\u001b[0m\u001b[0;34m\u001b[0m\u001b[0m\n\u001b[0;32m----> 2\u001b[0;31m \u001b[0mtpl\u001b[0m\u001b[0;34m[\u001b[0m\u001b[0;36m2\u001b[0m\u001b[0;34m]\u001b[0m \u001b[0;34m=\u001b[0m \u001b[0;36m3\u001b[0m\u001b[0;34m\u001b[0m\u001b[0;34m\u001b[0m\u001b[0m\n\u001b[0m",
            "\u001b[0;31mNameError\u001b[0m: name 'tpl' is not defined"
          ]
        }
      ]
    },
    {
      "cell_type": "markdown",
      "metadata": {
        "id": "vU4hoWhk3cuB",
        "colab_type": "text"
      },
      "source": [
        "But if there is **mutable** element in tuple, then its element **can be changed**."
      ]
    },
    {
      "cell_type": "code",
      "metadata": {
        "id": "6AG2ZxJE3i0Q",
        "colab_type": "code",
        "outputId": "2d7c04d4-b71b-40cb-d70f-ffc622947a72",
        "colab": {
          "base_uri": "https://localhost:8080/",
          "height": 51
        }
      },
      "source": [
        "#Example\n",
        "lst1 = [1,2,3,4]\n",
        "lst2 = [5,6,7,8]\n",
        "tpl1 = (lst1, lst2)\n",
        "print(\"Previous State of tuple : \", tpl1)\n",
        "tpl1[1].append(2)\n",
        "print(\"New state of tuple : \", tpl1) # 2 will be added at last of the element at index 1 in tuple"
      ],
      "execution_count": 0,
      "outputs": [
        {
          "output_type": "stream",
          "text": [
            "Previous State of tuple :  ([1, 2, 3, 4], [5, 6, 7, 8])\n",
            "New state of tuple :  ([1, 2, 3, 4], [5, 6, 7, 8, 2])\n"
          ],
          "name": "stdout"
        }
      ]
    },
    {
      "cell_type": "markdown",
      "metadata": {
        "id": "NCUA206g4G5N",
        "colab_type": "text"
      },
      "source": [
        "* We can **concatenate** two tuples and store them in a **third one** using (+) operator."
      ]
    },
    {
      "cell_type": "code",
      "metadata": {
        "id": "ziCv-5JH4vBs",
        "colab_type": "code",
        "outputId": "1c9e33d3-f0b0-4f68-80c4-860b107a1cd4",
        "colab": {
          "base_uri": "https://localhost:8080/",
          "height": 34
        }
      },
      "source": [
        "#Example\n",
        "tpl1 = (1,2,3,4)\n",
        "tpl2 = (5,6,7,8)\n",
        "tpl1 = tpl1 + tpl2\n",
        "print(\"Concatenated Tuple is : \", tpl1)"
      ],
      "execution_count": 0,
      "outputs": [
        {
          "output_type": "stream",
          "text": [
            "Concatenated Tuple is :  (1, 2, 3, 4, 5, 6, 7, 8)\n"
          ],
          "name": "stdout"
        }
      ]
    },
    {
      "cell_type": "markdown",
      "metadata": {
        "id": "giU-PEmN5SbR",
        "colab_type": "text"
      },
      "source": [
        "* We can **repeat** the elements in a couple by **repeat opeation**."
      ]
    },
    {
      "cell_type": "code",
      "metadata": {
        "id": "DYB6Ky855an8",
        "colab_type": "code",
        "outputId": "692a8cb7-d812-4531-93cd-93313cd5081c",
        "colab": {
          "base_uri": "https://localhost:8080/",
          "height": 34
        }
      },
      "source": [
        "#Example of repeat operation on a tuple\n",
        "tpl1 = ((\"Harish\", ) * 5)\n",
        "print(\"The tuple is : \", tpl1)"
      ],
      "execution_count": 0,
      "outputs": [
        {
          "output_type": "stream",
          "text": [
            "The tuple is :  ('Harish', 'Harish', 'Harish', 'Harish', 'Harish')\n"
          ],
          "name": "stdout"
        }
      ]
    },
    {
      "cell_type": "markdown",
      "metadata": {
        "id": "2aOuWyUd6bD9",
        "colab_type": "text"
      },
      "source": [
        "* We can get the **frequency** of a paricular element in tuple using **count(element)** function."
      ]
    },
    {
      "cell_type": "code",
      "metadata": {
        "id": "7PZvyJn36lPP",
        "colab_type": "code",
        "outputId": "d63d73be-bbf8-4bd9-93eb-3b1b6cc997e7",
        "colab": {
          "base_uri": "https://localhost:8080/",
          "height": 34
        }
      },
      "source": [
        "#Example of getting frequency of an element in Tuple\n",
        "tpl1 = (1,2,2,3,4,5,6,2,7)\n",
        "print(\"The count of 2 in tuple is : \", tpl1.count(2))"
      ],
      "execution_count": 0,
      "outputs": [
        {
          "output_type": "stream",
          "text": [
            "The count of 2 in tuple is :  3\n"
          ],
          "name": "stdout"
        }
      ]
    },
    {
      "cell_type": "markdown",
      "metadata": {
        "id": "N4Xg6Tog7eUx",
        "colab_type": "text"
      },
      "source": [
        "* Get the **index** of a particular element in tuple using **index(element)** function. This will give the index of **first occurance** of the element."
      ]
    },
    {
      "cell_type": "code",
      "metadata": {
        "id": "BQciTLpv7oC7",
        "colab_type": "code",
        "outputId": "baebb0c1-caa2-4006-cb86-864daa0e8f66",
        "colab": {
          "base_uri": "https://localhost:8080/",
          "height": 34
        }
      },
      "source": [
        "#Example\n",
        "tpl1 = (1,2,3,4,5)\n",
        "print(\"The index of 3 is : \", tpl1.index(3))"
      ],
      "execution_count": 0,
      "outputs": [
        {
          "output_type": "stream",
          "text": [
            "The index of 3 is :  2\n"
          ],
          "name": "stdout"
        }
      ]
    },
    {
      "cell_type": "markdown",
      "metadata": {
        "id": "Cdt8VY7L8I4Q",
        "colab_type": "text"
      },
      "source": [
        "* Just like lists, we can check whether an element **exists or not** in a tuple using **in** keyword."
      ]
    },
    {
      "cell_type": "code",
      "metadata": {
        "id": "Z4UJB-ix8RNK",
        "colab_type": "code",
        "outputId": "455d3f3f-382e-4d07-86cc-3281726fbbb4",
        "colab": {
          "base_uri": "https://localhost:8080/",
          "height": 68
        }
      },
      "source": [
        "#Example\n",
        "print(\"Given tuple is : \", tpl1)\n",
        "print(\"Does 3 exists in tuple ? : \",3 in tpl1)\n",
        "print(\"Does 10 exists in tuple ? : \", 10 in tpl1)"
      ],
      "execution_count": 0,
      "outputs": [
        {
          "output_type": "stream",
          "text": [
            "Given tuple is :  (1, 2, 3, 4, 5)\n",
            "Does 3 exists in tuple ? :  True\n",
            "Does 10 exists in tuple ? :  False\n"
          ],
          "name": "stdout"
        }
      ]
    },
    {
      "cell_type": "markdown",
      "metadata": {
        "id": "NdVy8So083TG",
        "colab_type": "text"
      },
      "source": [
        "* We can get **length** of tuple using **len(tuple)**."
      ]
    },
    {
      "cell_type": "code",
      "metadata": {
        "id": "Ps-OuDkn89Xx",
        "colab_type": "code",
        "outputId": "e2208889-8572-4f4c-f928-08788a8f5a44",
        "colab": {
          "base_uri": "https://localhost:8080/",
          "height": 51
        }
      },
      "source": [
        "print(\"Given tuple : \", tpl1)\n",
        "print(\"Length of tuple is : \", len(tpl1))"
      ],
      "execution_count": 0,
      "outputs": [
        {
          "output_type": "stream",
          "text": [
            "Given tuple :  (1, 2, 3, 4, 5)\n",
            "Length of tuple is :  5\n"
          ],
          "name": "stdout"
        }
      ]
    },
    {
      "cell_type": "markdown",
      "metadata": {
        "id": "bm3NVmj39R-s",
        "colab_type": "text"
      },
      "source": [
        "* Tuples are **immutable** and hence **cannot be sorted** directly. But, they **can be sorted and stored as a list** in another variable."
      ]
    },
    {
      "cell_type": "code",
      "metadata": {
        "id": "EqILhpYv9hOo",
        "colab_type": "code",
        "outputId": "9d8cf1da-04a8-4213-c3b6-6c7a7258c1ca",
        "colab": {
          "base_uri": "https://localhost:8080/",
          "height": 51
        }
      },
      "source": [
        "#Example\n",
        "print(\"Unsorted tuple : \", tpl1)\n",
        "lst1 = sorted(tpl1)\n",
        "print(\"The sorted list form is : \", lst1)"
      ],
      "execution_count": 0,
      "outputs": [
        {
          "output_type": "stream",
          "text": [
            "Unsorted tuple :  (1, 2, 3, 4, 5)\n",
            "The sorted list form is :  [1, 2, 3, 4, 5]\n"
          ],
          "name": "stdout"
        }
      ]
    },
    {
      "cell_type": "markdown",
      "metadata": {
        "id": "RN2Km3FP90FC",
        "colab_type": "text"
      },
      "source": [
        "* **Maximum** value and **minimum** value of a tuple is given by **max()** and **min()** respectively."
      ]
    },
    {
      "cell_type": "code",
      "metadata": {
        "id": "lyyTn-MV9bgV",
        "colab_type": "code",
        "outputId": "66397595-24c7-4fe9-d5d2-1ab0e88f0bac",
        "colab": {
          "base_uri": "https://localhost:8080/",
          "height": 68
        }
      },
      "source": [
        "print(\"Given Tuple : \", tpl1)\n",
        "print(\"Max Value : \", max(tpl1))\n",
        "print(\"Minimum Value : \", min(tpl1))"
      ],
      "execution_count": 0,
      "outputs": [
        {
          "output_type": "stream",
          "text": [
            "Given Tuple :  (1, 2, 3, 4, 5)\n",
            "Max Value :  5\n",
            "Minimum Value :  1\n"
          ],
          "name": "stdout"
        }
      ]
    },
    {
      "cell_type": "markdown",
      "metadata": {
        "id": "T4ZD1WXv-Ii9",
        "colab_type": "text"
      },
      "source": [
        "* **Sum** of the values in a tuple can be done using **sum()**."
      ]
    },
    {
      "cell_type": "code",
      "metadata": {
        "id": "1lyzpCUC-Oue",
        "colab_type": "code",
        "outputId": "7af77c19-9bd1-4abc-89c6-843f65ff1f63",
        "colab": {
          "base_uri": "https://localhost:8080/",
          "height": 51
        }
      },
      "source": [
        "#Example\n",
        "print(\"Given tuple\", tpl1)\n",
        "print(\"Sum of it's elements : \", sum(tpl1))"
      ],
      "execution_count": 0,
      "outputs": [
        {
          "output_type": "stream",
          "text": [
            "Given tuple (1, 2, 3, 4, 5)\n",
            "Sum of it's elements :  15\n"
          ],
          "name": "stdout"
        }
      ]
    },
    {
      "cell_type": "markdown",
      "metadata": {
        "id": "U5kp2aF9-xIM",
        "colab_type": "text"
      },
      "source": [
        "#**3. Sets**\n",
        "\n",
        "* Sets are **mutable** and can be **changed**.\n",
        "* Used to perform **mathematical** operations like set **union**, **intersection**, **symmytric difference**, etc.\n",
        "* Can be created using **{} curly braces**.\n",
        "* They **do not** have **indexes** or **keys**. Hence, they are **unordered**.\n",
        "* Sets **do not** allow **duplicate** elements.\n",
        "* Sets can be created in multiple ways.\n"
      ]
    },
    {
      "cell_type": "code",
      "metadata": {
        "id": "qRm2sWNx_tCK",
        "colab_type": "code",
        "outputId": "58667cb4-7a96-4900-e6d7-1d949fd4cdc8",
        "colab": {
          "base_uri": "https://localhost:8080/",
          "height": 85
        }
      },
      "source": [
        "#Example of set creation\n",
        "s1 = {} #Empty Set\n",
        "print(\"Empty Set : \", s1)\n",
        "s1 = {1,2,3,4}\n",
        "print(\"Set with elements : \", s1)\n",
        "s1 = {1,2,2,3,4,2,5,5,4}\n",
        "print(\"Set cannot have multiple elements : \", s1) # Each element will be printed only one\n",
        "s1 = set(lst) # Can be created using set() from list, tuples, etc.\n",
        "print(\"Set {} created from a list {}.\".format(s1,lst))"
      ],
      "execution_count": 0,
      "outputs": [
        {
          "output_type": "stream",
          "text": [
            "Empty Set :  {}\n",
            "Set with elements :  {1, 2, 3, 4}\n",
            "Set cannot have multiple elements :  {1, 2, 3, 4, 5}\n",
            "Set {1, 2, 4, 5, 8} created from a list [1, 2, 2, 4, 5, 8, 2].\n"
          ],
          "name": "stdout"
        }
      ]
    },
    {
      "cell_type": "markdown",
      "metadata": {
        "id": "0hN_FEfrArk6",
        "colab_type": "text"
      },
      "source": [
        "* **Single** and **multiple** elements can be **added** to a set using **add()** and **update()** respectively in a set."
      ]
    },
    {
      "cell_type": "code",
      "metadata": {
        "id": "JbLm4uSODrT1",
        "colab_type": "code",
        "outputId": "1f9394c2-bd79-4855-9e1b-326ef004b4f1",
        "colab": {
          "base_uri": "https://localhost:8080/",
          "height": 68
        }
      },
      "source": [
        "#Example\n",
        "print(\"Prev Set : \", s1)\n",
        "s1.add(10) #Adding single element\n",
        "print(\"After adding single element : \", s1)\n",
        "s1.update([11,12,13]) #Adding multiple element\n",
        "print(\"After adding multiple elements : \", s1)\n"
      ],
      "execution_count": 0,
      "outputs": [
        {
          "output_type": "stream",
          "text": [
            "Prev Set :  {1, 2, 3, 4, 5, 8, 10}\n",
            "After adding single element :  {1, 2, 3, 4, 5, 8, 10}\n",
            "After adding multiple elements :  {1, 2, 3, 4, 5, 8, 10, 11, 12, 13}\n"
          ],
          "name": "stdout"
        }
      ]
    },
    {
      "cell_type": "markdown",
      "metadata": {
        "id": "1q4WHxs3E_x2",
        "colab_type": "text"
      },
      "source": [
        "* Elements in a set can be **removed** using **discard()** or **remove()**."
      ]
    },
    {
      "cell_type": "code",
      "metadata": {
        "id": "TLyiKa8vFMlW",
        "colab_type": "code",
        "outputId": "4df9df51-8cf7-488b-c343-515f1ed65fe5",
        "colab": {
          "base_uri": "https://localhost:8080/",
          "height": 51
        }
      },
      "source": [
        "#Example remove 10 and 11 from s1\n",
        "print(\"Prev Set : \", s1)\n",
        "s1.remove(10)\n",
        "s1.discard(11)\n",
        "print(\"After elements 10 and 11 being removed : \", s1)"
      ],
      "execution_count": 0,
      "outputs": [
        {
          "output_type": "stream",
          "text": [
            "Prev Set :  {1, 2, 3, 4, 5, 8, 10, 11, 12, 13}\n",
            "After elements 10 and 11 being removed :  {1, 2, 3, 4, 5, 8, 12, 13}\n"
          ],
          "name": "stdout"
        }
      ]
    },
    {
      "cell_type": "markdown",
      "metadata": {
        "id": "RGaUlb9QFpg0",
        "colab_type": "text"
      },
      "source": [
        "* if element is **not present** and we remove it using remove(), we'll get **key error**. But, if we'll use **discard()**, it'll **not** raise an error.\n"
      ]
    },
    {
      "cell_type": "code",
      "metadata": {
        "id": "akX5vQ2NFu3W",
        "colab_type": "code",
        "outputId": "feb4163b-3c4a-42e6-f90a-7e2c7eded9fa",
        "colab": {
          "base_uri": "https://localhost:8080/",
          "height": 164
        }
      },
      "source": [
        "#Example of removing an unexisting element using remove\n",
        "s1.remove(11)"
      ],
      "execution_count": 0,
      "outputs": [
        {
          "output_type": "error",
          "ename": "KeyError",
          "evalue": "ignored",
          "traceback": [
            "\u001b[0;31m---------------------------------------------------------------------------\u001b[0m",
            "\u001b[0;31mKeyError\u001b[0m                                  Traceback (most recent call last)",
            "\u001b[0;32m<ipython-input-80-959f649fdfce>\u001b[0m in \u001b[0;36m<module>\u001b[0;34m()\u001b[0m\n\u001b[0;32m----> 1\u001b[0;31m \u001b[0ms1\u001b[0m\u001b[0;34m.\u001b[0m\u001b[0mremove\u001b[0m\u001b[0;34m(\u001b[0m\u001b[0;36m11\u001b[0m\u001b[0;34m)\u001b[0m\u001b[0;34m\u001b[0m\u001b[0;34m\u001b[0m\u001b[0m\n\u001b[0m",
            "\u001b[0;31mKeyError\u001b[0m: 11"
          ]
        }
      ]
    },
    {
      "cell_type": "code",
      "metadata": {
        "id": "JKIYTP1BGTmg",
        "colab_type": "code",
        "outputId": "63bf3426-4bec-4250-9f49-4f632ec031aa",
        "colab": {
          "base_uri": "https://localhost:8080/",
          "height": 34
        }
      },
      "source": [
        "#Same example using discard\n",
        "s1.discard(11)\n",
        "print(\"No Error\")"
      ],
      "execution_count": 0,
      "outputs": [
        {
          "output_type": "stream",
          "text": [
            "No Error\n"
          ],
          "name": "stdout"
        }
      ]
    },
    {
      "cell_type": "markdown",
      "metadata": {
        "id": "5RnBjCIzF5IE",
        "colab_type": "text"
      },
      "source": [
        "* We can use **pop()** to remove **random element** from a set. **pop()** **returns** the deleted element."
      ]
    },
    {
      "cell_type": "code",
      "metadata": {
        "id": "1kj-BtBOGqtz",
        "colab_type": "code",
        "outputId": "474b99fd-7cf5-48c0-8407-d60dd1757ec6",
        "colab": {
          "base_uri": "https://localhost:8080/",
          "height": 51
        }
      },
      "source": [
        "#Exampe of removing a random element\n",
        "print(\"Prev set : \", s1)\n",
        "removed = s1.pop()\n",
        "print(\"New set {} with element {} being removed\".format(s1, removed))"
      ],
      "execution_count": 0,
      "outputs": [
        {
          "output_type": "stream",
          "text": [
            "Prev set :  {1, 2, 3, 4, 5, 8, 12, 13}\n",
            "New set {2, 3, 4, 5, 8, 12, 13} with element 1 being removed\n"
          ],
          "name": "stdout"
        }
      ]
    },
    {
      "cell_type": "markdown",
      "metadata": {
        "id": "mSrCIg8SHHE5",
        "colab_type": "text"
      },
      "source": [
        "* We can **remove all the elements** using **clear()**"
      ]
    },
    {
      "cell_type": "code",
      "metadata": {
        "id": "NBkxWzfrHKFe",
        "colab_type": "code",
        "outputId": "e76a04cd-2e23-4c19-a4ec-cefe997f5ce4",
        "colab": {
          "base_uri": "https://localhost:8080/",
          "height": 51
        }
      },
      "source": [
        "print(\"Non-Empty set : \", s1)\n",
        "s1.clear()\n",
        "print(\"After clearing all elements : \", s1)"
      ],
      "execution_count": 0,
      "outputs": [
        {
          "output_type": "stream",
          "text": [
            "Non-Empty set :  {2, 3, 4, 5, 8, 12, 13}\n",
            "After clearing all elements :  set()\n"
          ],
          "name": "stdout"
        }
      ]
    },
    {
      "cell_type": "markdown",
      "metadata": {
        "id": "rn9oSr9kHggp",
        "colab_type": "text"
      },
      "source": [
        "* We can get the **union** of two sets using **\"|\"** (OR) operator or by using **union()**."
      ]
    },
    {
      "cell_type": "code",
      "metadata": {
        "id": "IRRBWgoKHuws",
        "colab_type": "code",
        "outputId": "a77e3065-3ba7-4fb0-8df0-5fb2987a669e",
        "colab": {
          "base_uri": "https://localhost:8080/",
          "height": 68
        }
      },
      "source": [
        "#Example of union\n",
        "s1 = {1,2,3,4}\n",
        "s2 = {1,2,5,6}\n",
        "un = s1 | s2\n",
        "print(\"Set 1 : \", s1)\n",
        "print(\"Set 2 : \", s2)\n",
        "print(\"Union of 1 and 2 : \", un)"
      ],
      "execution_count": 0,
      "outputs": [
        {
          "output_type": "stream",
          "text": [
            "Set 1 :  {1, 2, 3, 4}\n",
            "Set 2 :  {1, 2, 5, 6}\n",
            "Union of 1 and 2 :  {1, 2, 3, 4, 5, 6}\n"
          ],
          "name": "stdout"
        }
      ]
    },
    {
      "cell_type": "markdown",
      "metadata": {
        "id": "stn5XCqOIBXU",
        "colab_type": "text"
      },
      "source": [
        "* We can get **intersection** of two sets using **\"&\"** (AND) operator or by using **intersection()**."
      ]
    },
    {
      "cell_type": "code",
      "metadata": {
        "id": "ygbvloKfILDr",
        "colab_type": "code",
        "outputId": "53684a11-0f0f-4e26-9251-bafc2fd07965",
        "colab": {
          "base_uri": "https://localhost:8080/",
          "height": 68
        }
      },
      "source": [
        "#Example of intersection\n",
        "inter = s1 & s2\n",
        "print(\"Set 1 : \", s1)\n",
        "print(\"Set 2 : \", s2)\n",
        "print(\"Intersection of 1 and 2 : \", inter)"
      ],
      "execution_count": 0,
      "outputs": [
        {
          "output_type": "stream",
          "text": [
            "Set 1 :  {1, 2, 3, 4}\n",
            "Set 2 :  {1, 2, 5, 6}\n",
            "Intersection of 1 and 2 :  {1, 2}\n"
          ],
          "name": "stdout"
        }
      ]
    },
    {
      "cell_type": "markdown",
      "metadata": {
        "id": "B4jS33UpIrvO",
        "colab_type": "text"
      },
      "source": [
        "* We can get the **difference of elements** in two sets by **subtracting** them or using **difference()**. Difference means element that are **present in first** set but **not in second** set."
      ]
    },
    {
      "cell_type": "code",
      "metadata": {
        "id": "gafFCg2eI02u",
        "colab_type": "code",
        "outputId": "764ef7f3-973e-4010-d5c7-5196da7ab181",
        "colab": {
          "base_uri": "https://localhost:8080/",
          "height": 68
        }
      },
      "source": [
        "#Example of difference\n",
        "diff = s1 - s2\n",
        "print(\"Set 1 : \", s1)\n",
        "print(\"Set 2 : \", s2)\n",
        "print(\"Difference of 1 and 2 : \", diff)"
      ],
      "execution_count": 0,
      "outputs": [
        {
          "output_type": "stream",
          "text": [
            "Set 1 :  {1, 2, 3, 4}\n",
            "Set 2 :  {1, 2, 5, 6}\n",
            "Difference of 1 and 2 :  {3, 4}\n"
          ],
          "name": "stdout"
        }
      ]
    },
    {
      "cell_type": "markdown",
      "metadata": {
        "id": "lahT69cBJn11",
        "colab_type": "text"
      },
      "source": [
        "* We can get the **symmytric difference** of two sets by using **\"^\"** operator or by using **symmytric_difference()** function. **Symmytric difference** means getting **all** the elements of both sets except the **common** ones."
      ]
    },
    {
      "cell_type": "code",
      "metadata": {
        "id": "T7D3vSVHJ6Bg",
        "colab_type": "code",
        "outputId": "96077b85-3eed-467f-e075-577e1d304e9c",
        "colab": {
          "base_uri": "https://localhost:8080/",
          "height": 68
        }
      },
      "source": [
        "#Example of symmytric difference\n",
        "symdiff = s1 ^ s2\n",
        "print(\"Set 1 : \", s1)\n",
        "print(\"Set 2 : \", s2)\n",
        "print(\"Symmytric Difference of 1 and 2 : \", symdiff)"
      ],
      "execution_count": 0,
      "outputs": [
        {
          "output_type": "stream",
          "text": [
            "Set 1 :  {1, 2, 3, 4}\n",
            "Set 2 :  {1, 2, 5, 6}\n",
            "Symmytric Difference of 1 and 2 :  {3, 4, 5, 6}\n"
          ],
          "name": "stdout"
        }
      ]
    },
    {
      "cell_type": "markdown",
      "metadata": {
        "id": "cCtTLDy4Kdv0",
        "colab_type": "text"
      },
      "source": [
        "* We can check whether a set is **subset** of another using **issubset()**."
      ]
    },
    {
      "cell_type": "code",
      "metadata": {
        "id": "nIS1BBRPKq7T",
        "colab_type": "code",
        "outputId": "2d88939f-ac46-4e9a-b2e0-67dd7034b386",
        "colab": {
          "base_uri": "https://localhost:8080/",
          "height": 68
        }
      },
      "source": [
        "#Example of checking if a set is subset of another\n",
        "s1 = {1,2,3,4}\n",
        "s2 = {1,2,3}\n",
        "subset = s2.issubset(s1)\n",
        "print(\"Set 1 : \", s1)\n",
        "print(\"Set 2 : \", s2)\n",
        "print(\"Is set 2 a subset of set 1 ? : \", subset)"
      ],
      "execution_count": 0,
      "outputs": [
        {
          "output_type": "stream",
          "text": [
            "Set 1 :  {1, 2, 3, 4}\n",
            "Set 2 :  {1, 2, 3}\n",
            "Is set 2 a subset of set 1 ? :  True\n"
          ],
          "name": "stdout"
        }
      ]
    },
    {
      "cell_type": "markdown",
      "metadata": {
        "id": "7je-3nhxIw3E",
        "colab_type": "text"
      },
      "source": [
        "#**Frozen Sets**\n",
        "* Just like **sets** but they are **immutable** like **tuples**.\n",
        "* Can be **created** using function **frozenset()**.\n",
        "* frozensets are **hashable** and hence, they can be used as **dictionary keys**\n",
        "* **Doesn't have** **add()** and **remove()** as it is **immutable**.\n",
        "* **Supports** various functions like : copy(), union(), intersetion, issubset(), issuperse(), difference(), symmytric_difference(), isdisjoined(), etc."
      ]
    },
    {
      "cell_type": "markdown",
      "metadata": {
        "id": "iM5TKbbdMqji",
        "colab_type": "text"
      },
      "source": [
        "#**4. Dictionary**\n",
        "\n",
        "* **Unordered** collection of items\n",
        "* It has **key value** pairs to store data\n",
        "* **Values** can be accessed using respective **keys**\n",
        "* Values **cannot** be accessed using **index**\n",
        "* Can be created by specifying keys and their respective values inside **curly braces** {key : value, key : value} seperated by **comma(,)**\n",
        "* **Keys** can be of **any data type** and **values** can also be of **any data type**\n",
        "* Used because it is **efficient** and data is **stored** in such a way that data can be searched **without going through each item** sequentially.\n",
        "* A single dictionary can store elements with **multiple data types**\n"
      ]
    },
    {
      "cell_type": "code",
      "metadata": {
        "id": "v7vEMnJqgX3P",
        "colab_type": "code",
        "outputId": "3cd1aa86-1a82-4389-86df-1ae694e3684e",
        "colab": {
          "base_uri": "https://localhost:8080/",
          "height": 85
        }
      },
      "source": [
        "#Example of creating a dictionary with string keys and integer keys\n",
        "#Empty Dictionary \n",
        "dic = dict()\n",
        "print(\"Empty Dictionary : \", dic)\n",
        "\n",
        "#Dictionary with string Keys\n",
        "dic = {\"firstKey\" : \"firstValue\", \"secondKey\" : \"secondValue\"}\n",
        "print(\"Dictionary with string keys : \", dic)\n",
        "\n",
        "#Dictionary with integer keys\n",
        "dic = {1 : \"first\",2:\"second\"}\n",
        "print(\"Dictionary with int keys\", dic)\n",
        "\n",
        "#Creating dictionary with list of tuples\n",
        "dic = dict([(1,\"first\"),(2, \"second\"),(3,\"I am created using list of tuples\")])\n",
        "print(\"Dictionary created with list of tuples : \", dic)"
      ],
      "execution_count": 0,
      "outputs": [
        {
          "output_type": "stream",
          "text": [
            "Empty Dictionary :  {}\n",
            "Dictionary with string keys :  {'firstKey': 'firstValue', 'secondKey': 'secondValue'}\n",
            "Dictionary with int keys {1: 'first', 2: 'second'}\n",
            "Dictionary created with list of tuples :  {1: 'first', 2: 'second', 3: 'I am created using list of tuples'}\n"
          ],
          "name": "stdout"
        }
      ]
    },
    {
      "cell_type": "markdown",
      "metadata": {
        "id": "NquAv_ORixlC",
        "colab_type": "text"
      },
      "source": [
        "* **Values** can be **accessed** by passing key name in **square braces dict['key']** or we can use **get(key)** function on dictionary object. If the key is **non-exisiting**, then **get()** returns **None** and doesn't give an error. "
      ]
    },
    {
      "cell_type": "code",
      "metadata": {
        "id": "wm4XCSKhlYQJ",
        "colab_type": "code",
        "outputId": "d62872f7-5a91-4801-f357-36c608c5ef42",
        "colab": {
          "base_uri": "https://localhost:8080/",
          "height": 34
        }
      },
      "source": [
        "#Example of getting a value from dictionary\n",
        "print(\"The value at key '2' is : \", dic[2])"
      ],
      "execution_count": 0,
      "outputs": [
        {
          "output_type": "stream",
          "text": [
            "The value at key '2' is :  second\n"
          ],
          "name": "stdout"
        }
      ]
    },
    {
      "cell_type": "code",
      "metadata": {
        "id": "MbgKsDiilpwf",
        "colab_type": "code",
        "outputId": "36001739-d357-4cfd-efbb-298b4aa92db3",
        "colab": {
          "base_uri": "https://localhost:8080/",
          "height": 164
        }
      },
      "source": [
        "#It gives an error when key is not present\n",
        "val = key[10]"
      ],
      "execution_count": 0,
      "outputs": [
        {
          "output_type": "error",
          "ename": "NameError",
          "evalue": "ignored",
          "traceback": [
            "\u001b[0;31m---------------------------------------------------------------------------\u001b[0m",
            "\u001b[0;31mNameError\u001b[0m                                 Traceback (most recent call last)",
            "\u001b[0;32m<ipython-input-8-5caca955401c>\u001b[0m in \u001b[0;36m<module>\u001b[0;34m()\u001b[0m\n\u001b[0;32m----> 1\u001b[0;31m \u001b[0mval\u001b[0m \u001b[0;34m=\u001b[0m \u001b[0mkey\u001b[0m\u001b[0;34m[\u001b[0m\u001b[0;36m10\u001b[0m\u001b[0;34m]\u001b[0m\u001b[0;34m\u001b[0m\u001b[0;34m\u001b[0m\u001b[0m\n\u001b[0m",
            "\u001b[0;31mNameError\u001b[0m: name 'key' is not defined"
          ]
        }
      ]
    },
    {
      "cell_type": "code",
      "metadata": {
        "id": "v4KJPZ82mHPm",
        "colab_type": "code",
        "outputId": "fe5f8a54-e85d-4d1c-b46a-8e297721e413",
        "colab": {
          "base_uri": "https://localhost:8080/",
          "height": 51
        }
      },
      "source": [
        "#Getting a value using get()\n",
        "print(\"Getting value using get() : \", dic.get(2))\n",
        "\n",
        "#Trying to get a non-existing key\n",
        "print(\"Getting a non exitsing key : \", dic.get(10))"
      ],
      "execution_count": 0,
      "outputs": [
        {
          "output_type": "stream",
          "text": [
            "Getting value using get() :  second\n",
            "Getting a non exitsing key :  None\n"
          ],
          "name": "stdout"
        }
      ]
    },
    {
      "cell_type": "markdown",
      "metadata": {
        "id": "Fx-G0kWBlmit",
        "colab_type": "text"
      },
      "source": [
        "* We can **add** and **modify** elements of a dictionary by following operations :"
      ]
    },
    {
      "cell_type": "code",
      "metadata": {
        "id": "dOMJlzLmn2uY",
        "colab_type": "code",
        "outputId": "1690bbba-e1ac-4c29-ed5c-348abdde8922",
        "colab": {
          "base_uri": "https://localhost:8080/",
          "height": 68
        }
      },
      "source": [
        "#Starting state of the dictionary\n",
        "print(\"Before adding a new key : \", dic)\n",
        "\n",
        "#Example of adding a new key\n",
        "dic[4] = \"Four\"\n",
        "print(\"After adding value with key \\'4\\' : \", dic)\n",
        "\n",
        "#Example of modifying a key\n",
        "dic[4] = \"Modified Four\"\n",
        "print(\"After modifying value at key \\'4\\'\", dic)"
      ],
      "execution_count": 0,
      "outputs": [
        {
          "output_type": "stream",
          "text": [
            "Before adding a new key :  {1: 'first', 2: 'second', 3: 'I am created using list of tuples'}\n",
            "After adding value with key '4' :  {1: 'first', 2: 'second', 3: 'I am created using list of tuples', 4: 'Four'}\n",
            "After modifying value at key '4' {1: 'first', 2: 'second', 3: 'I am created using list of tuples', 4: 'Modified Four'}\n"
          ],
          "name": "stdout"
        }
      ]
    },
    {
      "cell_type": "markdown",
      "metadata": {
        "id": "bFpxVwjYo1VF",
        "colab_type": "text"
      },
      "source": [
        "* We can **remove** or **delete** an item in a dictionary using **pop(key)** function or popitem() function. **popitem()** functions removes any **random** key. We can also use **del** keyword."
      ]
    },
    {
      "cell_type": "code",
      "metadata": {
        "id": "8USvHQcYsEWD",
        "colab_type": "code",
        "colab": {
          "base_uri": "https://localhost:8080/",
          "height": 85
        },
        "outputId": "c2270208-bf4a-471b-f459-12ea4694b1da"
      },
      "source": [
        "#Assigning values to dic\n",
        "dic = {1 : \"One\", 2:\"Two\", 3:\"Three\"}\n",
        "\n",
        "#Example of removing a item from dictionary\n",
        "print(\"Prev State of Dict : \", dic)\n",
        "dic.pop(3)\n",
        "print(\"After removing element with key 3 : \", dic)\n",
        "\n",
        "#Example of popitem()\n",
        "dic.popitem()\n",
        "print(\"Example of popitem() : \", dic)\n",
        "\n",
        "#Example of deleting an item with del keyword\n",
        "del dic[1]\n",
        "print(\"After deleting last element  : \", dic)"
      ],
      "execution_count": 19,
      "outputs": [
        {
          "output_type": "stream",
          "text": [
            "Prev State of Dict :  {1: 'One', 2: 'Two', 3: 'Three'}\n",
            "After removing element with key 3 :  {1: 'One', 2: 'Two'}\n",
            "Example of popitem() :  {1: 'One'}\n",
            "After deleting last element  :  {}\n"
          ],
          "name": "stdout"
        }
      ]
    },
    {
      "cell_type": "markdown",
      "metadata": {
        "id": "68KW3h1Svx8k",
        "colab_type": "text"
      },
      "source": [
        "* We can use **clear()** to remove all items from key."
      ]
    },
    {
      "cell_type": "code",
      "metadata": {
        "id": "43OHBMLhv3rW",
        "colab_type": "code",
        "colab": {
          "base_uri": "https://localhost:8080/",
          "height": 51
        },
        "outputId": "4850309e-005d-47a0-fe75-3bb8bf00aaab"
      },
      "source": [
        "#Example of removing all items\n",
        "dic = {1 : \"One\", 2:\"Two\", 3:\"Three\"}\n",
        "print(\"Prev state  : \", dic)\n",
        "dic.clear()\n",
        "print(\"After removing all items : \", dic)"
      ],
      "execution_count": 20,
      "outputs": [
        {
          "output_type": "stream",
          "text": [
            "Prev state  :  {1: 'One', 2: 'Two', 3: 'Three'}\n",
            "After removing all items :  {}\n"
          ],
          "name": "stdout"
        }
      ]
    },
    {
      "cell_type": "markdown",
      "metadata": {
        "id": "GUXbMUwrwZ1N",
        "colab_type": "text"
      },
      "source": [
        "* We can use **copy()** to **copy** values of one dictionary to another\n"
      ]
    },
    {
      "cell_type": "code",
      "metadata": {
        "id": "a5El0p7IwhPa",
        "colab_type": "code",
        "colab": {
          "base_uri": "https://localhost:8080/",
          "height": 34
        },
        "outputId": "8af195e1-4c21-4b85-f434-0b7f6952b6be"
      },
      "source": [
        "#Example of copy()\n",
        "dic = {1 : \"One\", 2:\"Two\", 3:\"Three\"}\n",
        "new_dic = dic.copy()\n",
        "print(new_dic)"
      ],
      "execution_count": 21,
      "outputs": [
        {
          "output_type": "stream",
          "text": [
            "{1: 'One', 2: 'Two', 3: 'Three'}\n"
          ],
          "name": "stdout"
        }
      ]
    },
    {
      "cell_type": "markdown",
      "metadata": {
        "id": "ghrgP7TrwrUE",
        "colab_type": "text"
      },
      "source": [
        "* We can get the **keys** and **values** in the form of **list of tuples** using **items()** in dict object."
      ]
    },
    {
      "cell_type": "code",
      "metadata": {
        "id": "bV5H0aeCxOsP",
        "colab_type": "code",
        "colab": {
          "base_uri": "https://localhost:8080/",
          "height": 34
        },
        "outputId": "891ad993-930a-4647-a74b-598f0d945ce7"
      },
      "source": [
        "#Example\n",
        "dic = {1 : \"One\", 2:\"Two\", 3:\"Three\"}\n",
        "print(dic.items())"
      ],
      "execution_count": 22,
      "outputs": [
        {
          "output_type": "stream",
          "text": [
            "dict_items([(1, 'One'), (2, 'Two'), (3, 'Three')])\n"
          ],
          "name": "stdout"
        }
      ]
    },
    {
      "cell_type": "markdown",
      "metadata": {
        "id": "Lw4iaxVvxdcU",
        "colab_type": "text"
      },
      "source": [
        "* We can get a **list of all the keys** in a dictionary using **keys(**)"
      ]
    },
    {
      "cell_type": "code",
      "metadata": {
        "id": "AuWdwIH4xjnO",
        "colab_type": "code",
        "colab": {
          "base_uri": "https://localhost:8080/",
          "height": 34
        },
        "outputId": "44203ea5-41ad-487b-b020-dc5565a48caf"
      },
      "source": [
        "#Example\n",
        "dic = {1 : \"One\", 2:\"Two\", 3:\"Three\"}\n",
        "print(dic.keys())"
      ],
      "execution_count": 23,
      "outputs": [
        {
          "output_type": "stream",
          "text": [
            "dict_keys([1, 2, 3])\n"
          ],
          "name": "stdout"
        }
      ]
    },
    {
      "cell_type": "markdown",
      "metadata": {
        "id": "njyq8g2cxzO5",
        "colab_type": "text"
      },
      "source": [
        "* We can get **list of all the values** in a dictionary using **values()**"
      ]
    },
    {
      "cell_type": "code",
      "metadata": {
        "id": "Ax55covXx5ZL",
        "colab_type": "code",
        "colab": {
          "base_uri": "https://localhost:8080/",
          "height": 34
        },
        "outputId": "2d458bf9-3a09-4ebc-e887-8e41f77a1345"
      },
      "source": [
        "#Example\n",
        "dic = {1 : \"One\", 2:\"Two\", 3:\"Three\"}\n",
        "print(dic.values())"
      ],
      "execution_count": 24,
      "outputs": [
        {
          "output_type": "stream",
          "text": [
            "dict_values(['One', 'Two', 'Three'])\n"
          ],
          "name": "stdout"
        }
      ]
    },
    {
      "cell_type": "markdown",
      "metadata": {
        "id": "6hd1ABjJycZA",
        "colab_type": "text"
      },
      "source": [
        "# **3. Strings**"
      ]
    }
  ]
}