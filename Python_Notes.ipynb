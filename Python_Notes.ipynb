{
  "nbformat": 4,
  "nbformat_minor": 0,
  "metadata": {
    "colab": {
      "name": "Python Notes.ipynb",
      "provenance": [],
      "include_colab_link": true
    },
    "kernelspec": {
      "name": "python3",
      "display_name": "Python 3"
    }
  },
  "cells": [
    {
      "cell_type": "markdown",
      "metadata": {
        "id": "view-in-github",
        "colab_type": "text"
      },
      "source": [
        "<a href=\"https://colab.research.google.com/github/harishbhagtani/python-basics/blob/master/Python_Notes.ipynb\" target=\"_parent\"><img src=\"https://colab.research.google.com/assets/colab-badge.svg\" alt=\"Open In Colab\"/></a>"
      ]
    },
    {
      "cell_type": "markdown",
      "metadata": {
        "id": "FcX2tegcRISb",
        "colab_type": "text"
      },
      "source": [
        "# **Python Manual**"
      ]
    },
    {
      "cell_type": "markdown",
      "metadata": {
        "id": "kkmGaRbSRV2o",
        "colab_type": "text"
      },
      "source": [
        "# **Variables and Data Types**\n",
        "\n",
        "\n",
        "*   In python, we do not need to declare variable before using it\n",
        "*   We simply assing the value to the variable and we do not need to specify data type\n",
        "*   We can assing multiple variables in a single line\n",
        "*   We use id() to get the memory location of the variable\n",
        "\n",
        "```\n",
        "# This is formatted as code\n",
        "```\n",
        "\n",
        "\n",
        "\n"
      ]
    },
    {
      "cell_type": "code",
      "metadata": {
        "id": "ZSGK92JSSB1n",
        "colab_type": "code",
        "outputId": "5eeaa77e-c122-4b83-8807-4ca71fdede64",
        "colab": {
          "base_uri": "https://localhost:8080/",
          "height": 68
        }
      },
      "source": [
        "i = 10\n",
        "x = 2.5\n",
        "str = \"This is a string\"\n",
        "\n",
        "#Multiple Declaration\n",
        "i,t,k = 10, 20, 30\n",
        "i = k = k = 10 \n",
        "\n",
        "print(i)\n",
        "print(x)\n",
        "print(str)\n"
      ],
      "execution_count": 0,
      "outputs": [
        {
          "output_type": "stream",
          "text": [
            "10\n",
            "2.5\n",
            "This is a string\n"
          ],
          "name": "stdout"
        }
      ]
    },
    {
      "cell_type": "code",
      "metadata": {
        "id": "MwMCahkSUjSb",
        "colab_type": "code",
        "outputId": "63d1cb99-e696-409c-86cf-2d7632a297ac",
        "colab": {
          "base_uri": "https://localhost:8080/",
          "height": 34
        }
      },
      "source": [
        "#Getting memory location of P\n",
        "p = 5\n",
        "print(id(p))"
      ],
      "execution_count": 0,
      "outputs": [
        {
          "output_type": "stream",
          "text": [
            "10914624\n"
          ],
          "name": "stdout"
        }
      ]
    },
    {
      "cell_type": "markdown",
      "metadata": {
        "id": "MT7RbeucU_LW",
        "colab_type": "text"
      },
      "source": [
        "*When we have same value of a variable, it points to the same memory location to save memory*"
      ]
    },
    {
      "cell_type": "code",
      "metadata": {
        "id": "4IypiHm8VaDK",
        "colab_type": "code",
        "outputId": "93b1357e-3fe3-408f-eeef-bfdcd0a1e801",
        "colab": {
          "base_uri": "https://localhost:8080/",
          "height": 51
        }
      },
      "source": [
        "#Example\n",
        "x = 2\n",
        "y = 2\n",
        "print(id(x))\n",
        "print(id(y))"
      ],
      "execution_count": 0,
      "outputs": [
        {
          "output_type": "stream",
          "text": [
            "10914528\n",
            "10914528\n"
          ],
          "name": "stdout"
        }
      ]
    },
    {
      "cell_type": "markdown",
      "metadata": {
        "id": "q3T1oGjzVY4E",
        "colab_type": "text"
      },
      "source": [
        "# **Data types in Python**\n",
        "\n",
        "\n",
        "\n",
        "\n",
        "*   Every data type in python is a class\n",
        "*   We use type() to get the class type of a variable\n",
        "*   Python has build in support for complex numbers\n",
        "*   isinstance() is used to know whether a variable is instance of a particular class Ex : isinstance(1,int)\n",
        "\n",
        "\n"
      ]
    },
    {
      "cell_type": "code",
      "metadata": {
        "id": "AJ9fBkPRWfH2",
        "colab_type": "code",
        "outputId": "829a577d-5a85-43a0-af03-c45f0f9319f1",
        "colab": {
          "base_uri": "https://localhost:8080/",
          "height": 34
        }
      },
      "source": [
        "x = 2\n",
        "print(\"The type of x is\", type(x))"
      ],
      "execution_count": 0,
      "outputs": [
        {
          "output_type": "stream",
          "text": [
            "The type of x is <class 'int'>\n"
          ],
          "name": "stdout"
        }
      ]
    },
    {
      "cell_type": "code",
      "metadata": {
        "id": "U_YTXYt4WfRl",
        "colab_type": "code",
        "outputId": "cc05686b-1e6e-4fbb-f6b9-1b4e136b402b",
        "colab": {
          "base_uri": "https://localhost:8080/",
          "height": 34
        }
      },
      "source": [
        "y = 1 + 2j\n",
        "print(\"The type of y is : \", type(y))"
      ],
      "execution_count": 0,
      "outputs": [
        {
          "output_type": "stream",
          "text": [
            "The type of y is :  <class 'complex'>\n"
          ],
          "name": "stdout"
        }
      ]
    },
    {
      "cell_type": "code",
      "metadata": {
        "id": "i0n-shUQWfas",
        "colab_type": "code",
        "outputId": "d9ac042b-ab6e-4662-f126-d1f9c8a4e96a",
        "colab": {
          "base_uri": "https://localhost:8080/",
          "height": 51
        }
      },
      "source": [
        "z = 2.5\n",
        "print(\"Is 2.5 float?\")\n",
        "print(isinstance(z,float))"
      ],
      "execution_count": 0,
      "outputs": [
        {
          "output_type": "stream",
          "text": [
            "Is 2.5 float?\n",
            "True\n"
          ],
          "name": "stdout"
        }
      ]
    },
    {
      "cell_type": "markdown",
      "metadata": {
        "id": "Z8H_R8VxXljA",
        "colab_type": "text"
      },
      "source": [
        "**Boolean (Class : bool)**"
      ]
    },
    {
      "cell_type": "markdown",
      "metadata": {
        "id": "hnchXJrSYpzY",
        "colab_type": "text"
      },
      "source": [
        "\n",
        "\n",
        "```\n",
        " Boolean has two values : True or False\n",
        "```\n",
        "\n",
        "\n"
      ]
    },
    {
      "cell_type": "code",
      "metadata": {
        "id": "WIatdRfyXpQj",
        "colab_type": "code",
        "outputId": "b22ba2b6-3892-4dbe-cb9e-348b023b256b",
        "colab": {
          "base_uri": "https://localhost:8080/",
          "height": 34
        }
      },
      "source": [
        "x = True\n",
        "print(\"Type of x is : \", type(x))"
      ],
      "execution_count": 0,
      "outputs": [
        {
          "output_type": "stream",
          "text": [
            "Type of x is :  <class 'bool'>\n"
          ],
          "name": "stdout"
        }
      ]
    },
    {
      "cell_type": "markdown",
      "metadata": {
        "id": "ZR3nTt5NX55_",
        "colab_type": "text"
      },
      "source": [
        "**String (Class : str)**\n",
        "\n",
        "\n",
        "\n",
        "*   String is sequence of Unicode Characrters\n",
        "*   We can use \"Double Quotes\" or 'Single Quotes' to represent strings\n",
        "*   Multiline strings can be denoted by \"\"\"Triple Quotes\"\"\"\n",
        "*Just like C, string characters can be accessd using index that starts from 0 \n",
        "\n"
      ]
    },
    {
      "cell_type": "code",
      "metadata": {
        "id": "1yH3VwarXyJd",
        "colab_type": "code",
        "outputId": "416c68f0-2cb3-42d5-9430-5f66e8dd03d3",
        "colab": {
          "base_uri": "https://localhost:8080/",
          "height": 85
        }
      },
      "source": [
        "x = \"Single line String\"\n",
        "y = \"\"\"This is a \n",
        "      Multi line string\"\"\"\n",
        "print(\"Single line string : \", x, \"\\n\", \"Multi Line String : \",y)\n",
        "print(\"Class : \",type(x))"
      ],
      "execution_count": 0,
      "outputs": [
        {
          "output_type": "stream",
          "text": [
            "Single line string :  Single line String \n",
            " Multi Line String :  This is a \n",
            "      Multi line string\n",
            "Class :  <class 'str'>\n"
          ],
          "name": "stdout"
        }
      ]
    },
    {
      "cell_type": "code",
      "metadata": {
        "id": "4Ga5Sor-aiZ5",
        "colab_type": "code",
        "outputId": "8a546b51-7cf3-49d3-a3f6-a4530b2cc1f6",
        "colab": {
          "base_uri": "https://localhost:8080/",
          "height": 51
        }
      },
      "source": [
        "#Printing the char of string\n",
        "x = \"String is a data type\"\n",
        "print(\"Character at index 0 is : \", x[0])\n",
        "\n",
        "#To print last char of from last index\n",
        "print(\"Last char is : \", x[-1])\n",
        "#This is equivalant to x[len(x) - 1] "
      ],
      "execution_count": 0,
      "outputs": [
        {
          "output_type": "stream",
          "text": [
            "Character at index 0 is :  S\n",
            "Last char is :  e\n"
          ],
          "name": "stdout"
        }
      ]
    },
    {
      "cell_type": "code",
      "metadata": {
        "id": "FEpAGcL7a7Vk",
        "colab_type": "code",
        "outputId": "7fa20ec3-cf55-4f38-b988-8966bde47167",
        "colab": {
          "base_uri": "https://localhost:8080/",
          "height": 51
        }
      },
      "source": [
        "#Slicing of a string\n",
        "#For example : We want to get the value of string after index 5\n",
        "print(\"String after index 5 : \\\"\", x[5:],\"\\\"\")\n",
        "\n",
        "#We can also print from a particular index to a particular index\n",
        "print(\"String from index 5 to 10 is : \\\"\", x[5:10],\"\\\"\")"
      ],
      "execution_count": 0,
      "outputs": [
        {
          "output_type": "stream",
          "text": [
            "String after index 5 : \" g is a data type \"\n",
            "String from index 5 to 10 is : \" g is  \"\n"
          ],
          "name": "stdout"
        }
      ]
    },
    {
      "cell_type": "markdown",
      "metadata": {
        "id": "wOIVNKYcaxRE",
        "colab_type": "text"
      },
      "source": [
        "**Python List**\n",
        "\n",
        "\n",
        "\n",
        "*   Ordered Sequence of items\n",
        "*   Unlike C, all items need not to be of the same data type\n",
        "*   Data in list is mutable (can be altered)\n",
        "*   Defined by value seperated by comma(,) inside square braces[]\n",
        "\n",
        "\n"
      ]
    },
    {
      "cell_type": "code",
      "metadata": {
        "id": "NZ3YcYB1dFX9",
        "colab_type": "code",
        "outputId": "4607f618-0254-4f0e-90d8-31ee942aa190",
        "colab": {
          "base_uri": "https://localhost:8080/",
          "height": 68
        }
      },
      "source": [
        "#Example\n",
        "array = [1, 1.5,\"Hello\"]\n",
        "print(\"Array : \", array)\n",
        "\n",
        "#Accessing an index\n",
        "print(\"Value at index 0: \", array[0])\n",
        "\n",
        "#Accessing from one index to abother\n",
        "#If we write array[m:n] then it returns from m to n-1\n",
        "print(\"Value from 0 to 1: \", array[0:2])"
      ],
      "execution_count": 0,
      "outputs": [
        {
          "output_type": "stream",
          "text": [
            "Array :  [1, 1.5, 'Hello']\n",
            "Value at index 0:  1\n",
            "Value from 0 to 1:  [1, 1.5]\n"
          ],
          "name": "stdout"
        }
      ]
    },
    {
      "cell_type": "markdown",
      "metadata": {
        "id": "yYFCBOO5iazh",
        "colab_type": "text"
      },
      "source": [
        "\n",
        "\n",
        "```\n",
        "Data in python is mutable and value of them can be altered\n",
        "```\n",
        "\n"
      ]
    },
    {
      "cell_type": "markdown",
      "metadata": {
        "id": "FgKBfpT2iP4G",
        "colab_type": "text"
      },
      "source": [
        "**Python Tuples**\n",
        "\n",
        "\n",
        "\n",
        "*   Ordered sequence of items\n",
        "*   Similar to lists\n",
        "*   Data is immutable (cannot be altered)\n",
        "*   Defined by value seperated by comma(,) inside paranthese()\n",
        "\n"
      ]
    },
    {
      "cell_type": "code",
      "metadata": {
        "id": "sAdzxfuVjN7b",
        "colab_type": "code",
        "outputId": "d116520d-f1c6-4919-b324-df1a717c2597",
        "colab": {
          "base_uri": "https://localhost:8080/",
          "height": 34
        }
      },
      "source": [
        "#Example of tuple\n",
        "tuple = (\"1\", \"5.0\",\"String\")\n",
        "print(\"Tuple : \", tuple)"
      ],
      "execution_count": 0,
      "outputs": [
        {
          "output_type": "stream",
          "text": [
            "Tuple :  ('1', '5.0', 'String')\n"
          ],
          "name": "stdout"
        }
      ]
    },
    {
      "cell_type": "code",
      "metadata": {
        "id": "RgUJcMDJjnEj",
        "colab_type": "code",
        "outputId": "cdfae60c-1402-4e9f-8e60-88a340a66aec",
        "colab": {
          "base_uri": "https://localhost:8080/",
          "height": 164
        }
      },
      "source": [
        "#Items cannot be assinged to the tuple\n",
        "tuple[0] = 3"
      ],
      "execution_count": 0,
      "outputs": [
        {
          "output_type": "error",
          "ename": "TypeError",
          "evalue": "ignored",
          "traceback": [
            "\u001b[0;31m---------------------------------------------------------------------------\u001b[0m",
            "\u001b[0;31mTypeError\u001b[0m                                 Traceback (most recent call last)",
            "\u001b[0;32m<ipython-input-33-a2663c482868>\u001b[0m in \u001b[0;36m<module>\u001b[0;34m()\u001b[0m\n\u001b[0;32m----> 1\u001b[0;31m \u001b[0mtuple\u001b[0m\u001b[0;34m[\u001b[0m\u001b[0;36m0\u001b[0m\u001b[0;34m]\u001b[0m \u001b[0;34m=\u001b[0m \u001b[0;36m3\u001b[0m\u001b[0;34m\u001b[0m\u001b[0;34m\u001b[0m\u001b[0m\n\u001b[0m",
            "\u001b[0;31mTypeError\u001b[0m: 'tuple' object does not support item assignment"
          ]
        }
      ]
    },
    {
      "cell_type": "markdown",
      "metadata": {
        "id": "cPb6Dd00j31i",
        "colab_type": "text"
      },
      "source": [
        "**Python Set**\n",
        "\n",
        "\n",
        "\n",
        "*   Unordered collection of unique items\n",
        "*   Defined by values seperated by quama(,) inside curly braces\n",
        "*   We can perform operations like union, intersection on two sets\n",
        "\n",
        "\n",
        "\n"
      ]
    },
    {
      "cell_type": "code",
      "metadata": {
        "id": "IarrGUX_jtuB",
        "colab_type": "code",
        "outputId": "c33810a4-9a5c-448c-ebe2-cd51c6c3ed5c",
        "colab": {
          "base_uri": "https://localhost:8080/",
          "height": 34
        }
      },
      "source": [
        "#Example of set\n",
        "set = {1, 10, 20, 30}\n",
        "print(\"Set : \", set)"
      ],
      "execution_count": 0,
      "outputs": [
        {
          "output_type": "stream",
          "text": [
            "Set :  {1, 10, 20, 30}\n"
          ],
          "name": "stdout"
        }
      ]
    },
    {
      "cell_type": "code",
      "metadata": {
        "id": "_w1RfCL6lClU",
        "colab_type": "code",
        "outputId": "fab4b377-30e5-4d98-dc97-90c15daf6692",
        "colab": {
          "base_uri": "https://localhost:8080/",
          "height": 34
        }
      },
      "source": [
        "#Set doesn't consider duplicate items\n",
        "set = {1,1,3,5,5,6,7,9,9}\n",
        "print(\"Set : \", set)"
      ],
      "execution_count": 0,
      "outputs": [
        {
          "output_type": "stream",
          "text": [
            "Set :  {1, 3, 5, 6, 7, 9}\n"
          ],
          "name": "stdout"
        }
      ]
    },
    {
      "cell_type": "code",
      "metadata": {
        "id": "oVGhU4_elRgM",
        "colab_type": "code",
        "outputId": "db50e76f-1e31-4839-80ec-20e4a00631e4",
        "colab": {
          "base_uri": "https://localhost:8080/",
          "height": 164
        }
      },
      "source": [
        "#We cannot print particular items in a set as it is unordered collection\n",
        "print(\"Item 1 : \", set[0])"
      ],
      "execution_count": 0,
      "outputs": [
        {
          "output_type": "error",
          "ename": "TypeError",
          "evalue": "ignored",
          "traceback": [
            "\u001b[0;31m---------------------------------------------------------------------------\u001b[0m",
            "\u001b[0;31mTypeError\u001b[0m                                 Traceback (most recent call last)",
            "\u001b[0;32m<ipython-input-37-1fa43ee23681>\u001b[0m in \u001b[0;36m<module>\u001b[0;34m()\u001b[0m\n\u001b[0;32m----> 1\u001b[0;31m \u001b[0mprint\u001b[0m\u001b[0;34m(\u001b[0m\u001b[0;34m\"Item 1 : \"\u001b[0m\u001b[0;34m,\u001b[0m \u001b[0mset\u001b[0m\u001b[0;34m[\u001b[0m\u001b[0;36m0\u001b[0m\u001b[0;34m]\u001b[0m\u001b[0;34m)\u001b[0m\u001b[0;34m\u001b[0m\u001b[0;34m\u001b[0m\u001b[0m\n\u001b[0m",
            "\u001b[0;31mTypeError\u001b[0m: 'set' object does not support indexing"
          ]
        }
      ]
    },
    {
      "cell_type": "markdown",
      "metadata": {
        "id": "jcXF8mSumHYr",
        "colab_type": "text"
      },
      "source": [
        "**Dictionary**\n",
        "\n",
        "*   Unordered collection of Key-value pairs\n",
        "*   Each value can be accessed using a key\n",
        "*   Key value pairs can be defined seperated by comma(,) insied curly braces{}\n",
        "\n"
      ]
    },
    {
      "cell_type": "code",
      "metadata": {
        "id": "8jJpxQ4Omdda",
        "colab_type": "code",
        "outputId": "d0d2be08-48e1-49d5-e35c-02e92b903031",
        "colab": {
          "base_uri": "https://localhost:8080/",
          "height": 34
        }
      },
      "source": [
        "#Example of a dictionary\n",
        "dict = {'a':\"Apple\",'b':\"Ball\"}\n",
        "print(\"Dictionary : \", dict)"
      ],
      "execution_count": 0,
      "outputs": [
        {
          "output_type": "stream",
          "text": [
            "Dictionary :  {'a': 'Apple', 'b': 'Ball'}\n"
          ],
          "name": "stdout"
        }
      ]
    },
    {
      "cell_type": "code",
      "metadata": {
        "id": "fac7sIuynCbK",
        "colab_type": "code",
        "outputId": "1da6acda-33bb-4297-b19f-c7ee05f4bc5c",
        "colab": {
          "base_uri": "https://localhost:8080/",
          "height": 34
        }
      },
      "source": [
        "#Accesing dictionary element\n",
        "print(\"Element with key \\'a\\' : \", dict['a'])"
      ],
      "execution_count": 0,
      "outputs": [
        {
          "output_type": "stream",
          "text": [
            "Element with key 'a' :  Apple\n"
          ],
          "name": "stdout"
        }
      ]
    },
    {
      "cell_type": "markdown",
      "metadata": {
        "id": "ViJNeFJpnRXO",
        "colab_type": "text"
      },
      "source": [
        "# **Conversion Between Data Types**"
      ]
    },
    {
      "cell_type": "markdown",
      "metadata": {
        "id": "7DQWJ_Zrnaau",
        "colab_type": "text"
      },
      "source": [
        "We can use different functions like float(), int(), str(), bool() to convert different values from one data type to another"
      ]
    },
    {
      "cell_type": "code",
      "metadata": {
        "id": "pWrA1tODnnmB",
        "colab_type": "code",
        "outputId": "b081b790-aeaf-459c-c7fb-c8e4f80b5c35",
        "colab": {
          "base_uri": "https://localhost:8080/",
          "height": 51
        }
      },
      "source": [
        "#Examples of conversion\n",
        "x = 5\n",
        "print(\"x is of type : \", type(x), \": \", x)\n",
        "x = float(x)\n",
        "print(\"x is of type : \", type(x), \": \", x)\n",
        "\n"
      ],
      "execution_count": 0,
      "outputs": [
        {
          "output_type": "stream",
          "text": [
            "x is of type :  <class 'int'> :  5\n",
            "x is of type :  <class 'float'> :  5.0\n"
          ],
          "name": "stdout"
        }
      ]
    },
    {
      "cell_type": "markdown",
      "metadata": {
        "id": "xe3KTgC6s6rU",
        "colab_type": "text"
      },
      "source": [
        "We can also convert one sequence to another\n"
      ]
    },
    {
      "cell_type": "markdown",
      "metadata": {
        "id": "EwXgGZyzuiqK",
        "colab_type": "text"
      },
      "source": [
        "\n",
        "\n",
        "```\n",
        "#Example\n",
        "x = [1,2,3,4]\n",
        "x = tuple(x)\n",
        "```\n",
        "\n"
      ]
    },
    {
      "cell_type": "markdown",
      "metadata": {
        "id": "1ZoYdCtkvH_U",
        "colab_type": "text"
      },
      "source": [
        "We can also convert string to the list"
      ]
    },
    {
      "cell_type": "code",
      "metadata": {
        "id": "5SsiaVw4u4Yq",
        "colab_type": "code",
        "outputId": "ff1685a2-7a73-4f77-f600-cb12595e8d97",
        "colab": {
          "base_uri": "https://localhost:8080/",
          "height": 34
        }
      },
      "source": [
        "#Converting a string to list\n",
        "word = \"Hello World\"\n",
        "word_list = list(word)\n",
        "print(word_list)"
      ],
      "execution_count": 0,
      "outputs": [
        {
          "output_type": "stream",
          "text": [
            "['H', 'e', 'l', 'l', 'o', ' ', 'W', 'o', 'r', 'l', 'd']\n"
          ],
          "name": "stdout"
        }
      ]
    },
    {
      "cell_type": "markdown",
      "metadata": {
        "id": "pCBIPm7N6RDO",
        "colab_type": "text"
      },
      "source": [
        "# **Standard Input and Output Commands**\n",
        "\n",
        "**Python Output**\n",
        "\n",
        "*   Use print() function to print string as standard output\n",
        "\n"
      ]
    },
    {
      "cell_type": "code",
      "metadata": {
        "id": "cslAPjwH7ED1",
        "colab_type": "code",
        "outputId": "e5383a5c-fb0d-400f-dc05-42b97861d33f",
        "colab": {
          "base_uri": "https://localhost:8080/",
          "height": 34
        }
      },
      "source": [
        "print(\"Hello world!\")"
      ],
      "execution_count": 0,
      "outputs": [
        {
          "output_type": "stream",
          "text": [
            "Hello world!\n"
          ],
          "name": "stdout"
        }
      ]
    },
    {
      "cell_type": "markdown",
      "metadata": {
        "id": "RwTz9EKl7H80",
        "colab_type": "text"
      },
      "source": [
        "We can also concatenate strings inside the function"
      ]
    },
    {
      "cell_type": "code",
      "metadata": {
        "id": "0gShrslM7N5a",
        "colab_type": "code",
        "outputId": "6bd2cdfe-bc6b-4882-db03-47d0b6a4d4c2",
        "colab": {
          "base_uri": "https://localhost:8080/",
          "height": 34
        }
      },
      "source": [
        "print(\"Hello \" + \"World!\")"
      ],
      "execution_count": 0,
      "outputs": [
        {
          "output_type": "stream",
          "text": [
            "Hello World!\n"
          ],
          "name": "stdout"
        }
      ]
    },
    {
      "cell_type": "markdown",
      "metadata": {
        "id": "6nsB9mso7dMK",
        "colab_type": "text"
      },
      "source": [
        "**Output Formatting**\n",
        "\n"
      ]
    },
    {
      "cell_type": "code",
      "metadata": {
        "id": "So27OeZg7sYh",
        "colab_type": "code",
        "outputId": "e45bea62-5acc-4d73-c35a-93d043f5dcf6",
        "colab": {
          "base_uri": "https://localhost:8080/",
          "height": 34
        }
      },
      "source": [
        "#Examples of output formatting\n",
        "a,b = 10,20\n",
        "print(\"The value of a is {} and b is {}\".format(a,b))"
      ],
      "execution_count": 0,
      "outputs": [
        {
          "output_type": "stream",
          "text": [
            "The value of a is 10 and b is 20\n"
          ],
          "name": "stdout"
        }
      ]
    },
    {
      "cell_type": "code",
      "metadata": {
        "id": "4_vVFDe48GQ_",
        "colab_type": "code",
        "outputId": "f34832a2-6949-4741-cb56-e54e1058e26d",
        "colab": {
          "base_uri": "https://localhost:8080/",
          "height": 34
        }
      },
      "source": [
        "#Another example is\n",
        "print(\"Hello {name} , {greeting}\".format(name = \"Harish\", greeting = \"Good Evening!\"))"
      ],
      "execution_count": 0,
      "outputs": [
        {
          "output_type": "stream",
          "text": [
            "Hello Harish , Good Evening!\n"
          ],
          "name": "stdout"
        }
      ]
    },
    {
      "cell_type": "code",
      "metadata": {
        "id": "wFeBJaqq8mto",
        "colab_type": "code",
        "outputId": "a00e86de-09a0-4cc3-e1a6-0e32f20b33ab",
        "colab": {
          "base_uri": "https://localhost:8080/",
          "height": 34
        }
      },
      "source": [
        "#We can combine positional argument with key value argument\n",
        "print(\"Hello {0} , {greeting}\".format(\"Harish\", greeting = \"Good Morning!\"))"
      ],
      "execution_count": 0,
      "outputs": [
        {
          "output_type": "stream",
          "text": [
            "Hello Harish , Good Morning!\n"
          ],
          "name": "stdout"
        }
      ]
    },
    {
      "cell_type": "markdown",
      "metadata": {
        "id": "VPinHqBi86Ea",
        "colab_type": "text"
      },
      "source": [
        "**Python Output**\n",
        "\n",
        "*   Use input() to take user input\n",
        "\n"
      ]
    },
    {
      "cell_type": "code",
      "metadata": {
        "id": "yT6XZaCH9JHm",
        "colab_type": "code",
        "outputId": "d470c652-5fa7-497c-bc0b-b89055e312c4",
        "colab": {
          "base_uri": "https://localhost:8080/",
          "height": 51
        }
      },
      "source": [
        "x = input(\"Please enter name : \")\n",
        "print(\"Given input is {} of type {}\".format(x, type(x)))"
      ],
      "execution_count": 0,
      "outputs": [
        {
          "output_type": "stream",
          "text": [
            "Please enter name : Harish\n",
            "Given input is Harish of type <class 'str'>\n"
          ],
          "name": "stdout"
        }
      ]
    },
    {
      "cell_type": "markdown",
      "metadata": {
        "id": "FAFq-86h9ewe",
        "colab_type": "text"
      },
      "source": [
        "#**Operators in Python**\n",
        "\n",
        "Special symbols in python used to perform arithmatical and logical operations\n",
        "\n",
        "Types of operators\n",
        "\n",
        "1.   Arithmatic Operators\n",
        "2.   Relational Operatos\n",
        "3.   Logical Operators\n",
        "4.   Bitwise Operators\n",
        "5.   Assingment Operators\n",
        "6.   Special Operators\n",
        "\n",
        "**1.Arithmatic Operators**\n",
        "\n",
        "Used to perform mathematical operations like Addition, Subtraction, Multiplication, etc\n",
        "\n",
        "\n",
        "\n"
      ]
    },
    {
      "cell_type": "code",
      "metadata": {
        "id": "BLTsOrwk-aBX",
        "colab_type": "code",
        "outputId": "d09d7e02-082f-4b61-caad-552f4c945c5e",
        "colab": {
          "base_uri": "https://localhost:8080/",
          "height": 136
        }
      },
      "source": [
        "#Example of arithmatic operators\n",
        "\n",
        "x = 10 + 5\n",
        "print(\"Addition : \",x)\n",
        "x = 10 - 5\n",
        "print(\"Subtraction : \",x)\n",
        "x = 10 * 5\n",
        "print(\"Multiplication : \",x)\n",
        "x = 10 / 5\n",
        "print(\"Division : \",x)\n",
        "x = 10 % 5\n",
        "print(\"Reminder : \",x)\n",
        "x = 10 // 5\n",
        "print(\"Floor Division : \",x)\n",
        "x = 2**3\n",
        "print(\"Exponential : \",x)\n"
      ],
      "execution_count": 0,
      "outputs": [
        {
          "output_type": "stream",
          "text": [
            "Addition :  15\n",
            "Subtraction :  5\n",
            "Multiplication :  50\n",
            "Division :  2.0\n",
            "Reminder :  0\n",
            "Floor Division :  2\n",
            "Exponential :  8\n"
          ],
          "name": "stdout"
        }
      ]
    },
    {
      "cell_type": "markdown",
      "metadata": {
        "id": "vjb3_JUGArpS",
        "colab_type": "text"
      },
      "source": [
        "**2.Logical Operators**\n",
        "\n",
        "Used to compare two numbers\n",
        "\n"
      ]
    },
    {
      "cell_type": "code",
      "metadata": {
        "id": "xN_4F7YtA1AJ",
        "colab_type": "code",
        "outputId": "3762e4f9-a5fc-423b-fd79-57a1000f4bb1",
        "colab": {
          "base_uri": "https://localhost:8080/",
          "height": 119
        }
      },
      "source": [
        "x,y = 10,20\n",
        "print(x > y)\n",
        "print(x < y)\n",
        "print(x == y)\n",
        "print(x != y)\n",
        "print(x >= y)\n",
        "print(x <= y)"
      ],
      "execution_count": 0,
      "outputs": [
        {
          "output_type": "stream",
          "text": [
            "False\n",
            "True\n",
            "False\n",
            "True\n",
            "False\n",
            "True\n"
          ],
          "name": "stdout"
        }
      ]
    },
    {
      "cell_type": "markdown",
      "metadata": {
        "id": "MJHTPfapBOPg",
        "colab_type": "text"
      },
      "source": [
        "**3.Logical Operators**\n",
        "\n",
        "Used to perform logical operations like AND OR and NOT"
      ]
    },
    {
      "cell_type": "code",
      "metadata": {
        "id": "whQacrUmBcLv",
        "colab_type": "code",
        "outputId": "aea774cb-1432-44e7-9595-ed2c5a97afbe",
        "colab": {
          "base_uri": "https://localhost:8080/",
          "height": 68
        }
      },
      "source": [
        "x, y = True, False\n",
        "print(x and y)\n",
        "print(x or y)\n",
        "print(not x)"
      ],
      "execution_count": 0,
      "outputs": [
        {
          "output_type": "stream",
          "text": [
            "False\n",
            "True\n",
            "False\n"
          ],
          "name": "stdout"
        }
      ]
    },
    {
      "cell_type": "markdown",
      "metadata": {
        "id": "9YUo5Lg8ByDv",
        "colab_type": "text"
      },
      "source": [
        ""
      ]
    },
    {
      "cell_type": "markdown",
      "metadata": {
        "id": "NyPLrETqCd_X",
        "colab_type": "text"
      },
      "source": [
        "**4.Assingment Operators**\n",
        "\n",
        "Used to assing the values to the vriables at the left hand side"
      ]
    },
    {
      "cell_type": "code",
      "metadata": {
        "id": "WAa494VMCots",
        "colab_type": "code",
        "outputId": "d2d6adad-4fca-4137-b748-3af69be8c99e",
        "colab": {
          "base_uri": "https://localhost:8080/",
          "height": 136
        }
      },
      "source": [
        "a = 10\n",
        "print(a)\n",
        "a += 10\n",
        "print(a)\n",
        "a -= 10\n",
        "print(a)\n",
        "a /= 10\n",
        "print(a)\n",
        "a *= 10\n",
        "print(a)\n",
        "a %= 10\n",
        "print(a)\n",
        "x = 5\n",
        "x **= 2\n",
        "print(x)\n"
      ],
      "execution_count": 0,
      "outputs": [
        {
          "output_type": "stream",
          "text": [
            "10\n",
            "20\n",
            "10\n",
            "1.0\n",
            "10.0\n",
            "0.0\n",
            "25\n"
          ],
          "name": "stdout"
        }
      ]
    },
    {
      "cell_type": "markdown",
      "metadata": {
        "id": "zCe0quOUDJ-y",
        "colab_type": "text"
      },
      "source": [
        "**5.Identity Operators**\n",
        "\n",
        "Operators **is** and **is not** are identity operators. They are used to determine if two variables point to same memory location or not"
      ]
    },
    {
      "cell_type": "code",
      "metadata": {
        "id": "Q2m_oCY8DXDZ",
        "colab_type": "code",
        "outputId": "3880047a-9f5b-47b0-df9e-feb5c0c14721",
        "colab": {
          "base_uri": "https://localhost:8080/",
          "height": 68
        }
      },
      "source": [
        "a, b = 5, 5\n",
        "print(a is b)\n",
        "print(a is not b)\n",
        "b = 7\n",
        "print(a is not b)"
      ],
      "execution_count": 0,
      "outputs": [
        {
          "output_type": "stream",
          "text": [
            "True\n",
            "False\n",
            "True\n"
          ],
          "name": "stdout"
        }
      ]
    },
    {
      "cell_type": "markdown",
      "metadata": {
        "id": "G7iaFIQZDpLy",
        "colab_type": "text"
      },
      "source": [
        "**6.MemberShip Operators**\n",
        "\n",
        "**in** and **not in** are the membership operators\n",
        "\n",
        "Used to test whether a number is found in a sequence (string, list, tuple, set, dictionary)"
      ]
    },
    {
      "cell_type": "code",
      "metadata": {
        "id": "ictj7k2HEEJ-",
        "colab_type": "code",
        "outputId": "bf4866f9-f2d8-48f6-ae66-fe577502acec",
        "colab": {
          "base_uri": "https://localhost:8080/",
          "height": 68
        }
      },
      "source": [
        "x = [1,2,3,4]\n",
        "print(1 in x)\n",
        "print(7 in x)\n",
        "print(7 not in x)"
      ],
      "execution_count": 0,
      "outputs": [
        {
          "output_type": "stream",
          "text": [
            "True\n",
            "False\n",
            "True\n"
          ],
          "name": "stdout"
        }
      ]
    },
    {
      "cell_type": "markdown",
      "metadata": {
        "id": "asq9V3_dEj3-",
        "colab_type": "text"
      },
      "source": [
        "#**Control Flow Statements : IF ELSE**\n",
        "\n",
        "**1. IF statement**\n",
        "\n",
        "If test expression is true, the code after colon(:) runs, otherwise the code is skipped\n",
        "\n"
      ]
    },
    {
      "cell_type": "markdown",
      "metadata": {
        "id": "N1l7npGVEw_-",
        "colab_type": "text"
      },
      "source": [
        "\n",
        "\n",
        "```\n",
        "if test expression : \n",
        "      statement(s)\n",
        "```\n",
        "\n"
      ]
    },
    {
      "cell_type": "code",
      "metadata": {
        "id": "Z-Hnf1QhEtXg",
        "colab_type": "code",
        "outputId": "2240d349-6261-45b4-c57b-d3309d8d1016",
        "colab": {
          "base_uri": "https://localhost:8080/",
          "height": 34
        }
      },
      "source": [
        "x = 10\n",
        "if x == 10:\n",
        "  print(\"Yeah! Code Ran...\")\n",
        "if x == 20:\n",
        "  print(\"This code should not run...\")"
      ],
      "execution_count": 0,
      "outputs": [
        {
          "output_type": "stream",
          "text": [
            "Yeah! Code Ran...\n"
          ],
          "name": "stdout"
        }
      ]
    },
    {
      "cell_type": "markdown",
      "metadata": {
        "id": "B1-zzGswF5BZ",
        "colab_type": "text"
      },
      "source": [
        "**0** and **None** are taken as false by python and all the other values are taken as true"
      ]
    },
    {
      "cell_type": "code",
      "metadata": {
        "id": "peyhZas8GAx3",
        "colab_type": "code",
        "outputId": "aaccd110-d998-4cd3-d3eb-7d2c18bf57fa",
        "colab": {
          "base_uri": "https://localhost:8080/",
          "height": 34
        }
      },
      "source": [
        "if 0:\n",
        "  print(\"This code will not run\")\n",
        "if None:\n",
        "  print(\"This code will also not run\")\n",
        "if 10:\n",
        "  print(\"Yeah! 10 is taken as true because its not 0 or None\")"
      ],
      "execution_count": 0,
      "outputs": [
        {
          "output_type": "stream",
          "text": [
            "Yeah! 10 is taken as true because its not 0 or None\n"
          ],
          "name": "stdout"
        }
      ]
    },
    {
      "cell_type": "markdown",
      "metadata": {
        "id": "5xJ9_m6NGZVH",
        "colab_type": "text"
      },
      "source": [
        "**2. IF ELSE statement**\n",
        "\n",
        "\n",
        "\n",
        "```\n",
        "if test expression:\n",
        "  body of if\n",
        "else:\n",
        "  body of else\n",
        "```\n",
        "\n"
      ]
    },
    {
      "cell_type": "code",
      "metadata": {
        "id": "Ns1GkCDbGs4m",
        "colab_type": "code",
        "outputId": "afa4c90e-6c69-40a2-d3e0-f885e21e7bbd",
        "colab": {
          "base_uri": "https://localhost:8080/",
          "height": 34
        }
      },
      "source": [
        "#Example of if else\n",
        "x = 20\n",
        "if x > 10:\n",
        "  print(\"The expression was true\")\n",
        "else:\n",
        "  print(\"The expression was false\")"
      ],
      "execution_count": 0,
      "outputs": [
        {
          "output_type": "stream",
          "text": [
            "The expression was true\n"
          ],
          "name": "stdout"
        }
      ]
    },
    {
      "cell_type": "markdown",
      "metadata": {
        "id": "LmGqQ4yuHJJj",
        "colab_type": "text"
      },
      "source": [
        "**3. IF ELIF ELSE statement**\n",
        "\n",
        "\n",
        "\n",
        "```\n",
        "if test expression:\n",
        "  body of if\n",
        "elif test expression:\n",
        "  body of elif\n",
        "elif test expression:\n",
        "  body of elif\n",
        "else:\n",
        "  body of else\n",
        "```\n",
        "\n"
      ]
    },
    {
      "cell_type": "code",
      "metadata": {
        "id": "Ns8xHG5RHhgU",
        "colab_type": "code",
        "outputId": "5e16c170-271b-4076-e286-f67293a703fa",
        "colab": {
          "base_uri": "https://localhost:8080/",
          "height": 34
        }
      },
      "source": [
        "#Example of if elif else\n",
        "x = 10\n",
        "if x > 10:\n",
        "  print(\"Greater than ten\")\n",
        "elif x == 10:\n",
        "  print(\"Equal to ten\")\n",
        "else:\n",
        "  print(\"Less than 10\")"
      ],
      "execution_count": 0,
      "outputs": [
        {
          "output_type": "stream",
          "text": [
            "Equal to ten\n"
          ],
          "name": "stdout"
        }
      ]
    },
    {
      "cell_type": "markdown",
      "metadata": {
        "id": "PW0BuWKPIx-3",
        "colab_type": "text"
      },
      "source": [
        "**4. Nested IF ELSE statement**\n",
        "\n",
        "\n",
        "\n",
        "```\n",
        "if text expression:\n",
        "  if test expression:\n",
        "    body of nested if\n",
        "  else:\n",
        "    body of nested else\n",
        "else:\n",
        "  body of else\n",
        "```\n",
        "\n"
      ]
    },
    {
      "cell_type": "code",
      "metadata": {
        "id": "V2fzgtz7JJht",
        "colab_type": "code",
        "outputId": "ef2e6e93-8553-483d-abf7-90e9bfe4a0f0",
        "colab": {
          "base_uri": "https://localhost:8080/",
          "height": 34
        }
      },
      "source": [
        "x = 10\n",
        "if x != 0:\n",
        "  if x > 0:\n",
        "    print(\"Positive Number {}\".format(x))\n",
        "  else:\n",
        "    print(\"Negative number {}\".format(x))\n",
        "else:\n",
        "  print(\"Zero 0\")"
      ],
      "execution_count": 0,
      "outputs": [
        {
          "output_type": "stream",
          "text": [
            "Positive Number 10\n"
          ],
          "name": "stdout"
        }
      ]
    },
    {
      "cell_type": "markdown",
      "metadata": {
        "id": "nl08CPFEKFf1",
        "colab_type": "text"
      },
      "source": [
        "#**Control flow statements : LOOPS**\n",
        "\n",
        "**1. FOR loop**\n",
        "\n",
        "\n",
        "\n",
        "```\n",
        "for element in sequence:\n",
        "  body of loop\n",
        "```\n",
        "\n"
      ]
    },
    {
      "cell_type": "code",
      "metadata": {
        "id": "eGzsKp1WKasE",
        "colab_type": "code",
        "outputId": "1f99f87e-e4ca-40a0-d2c4-e6fc6c9b7929",
        "colab": {
          "base_uri": "https://localhost:8080/",
          "height": 85
        }
      },
      "source": [
        "#For loop for one step iteration\n",
        "for x in range(4) :\n",
        "  print(x + 1) "
      ],
      "execution_count": 0,
      "outputs": [
        {
          "output_type": "stream",
          "text": [
            "1\n",
            "2\n",
            "3\n",
            "4\n"
          ],
          "name": "stdout"
        }
      ]
    },
    {
      "cell_type": "code",
      "metadata": {
        "id": "hdgsBC5YLAnL",
        "colab_type": "code",
        "outputId": "42aca5c1-939f-4f34-f09a-06c77be19569",
        "colab": {
          "base_uri": "https://localhost:8080/",
          "height": 102
        }
      },
      "source": [
        "#For loop for two step iteration\n",
        "for x in range(0,25,5):\n",
        "  print(x)"
      ],
      "execution_count": 0,
      "outputs": [
        {
          "output_type": "stream",
          "text": [
            "0\n",
            "5\n",
            "10\n",
            "15\n",
            "20\n"
          ],
          "name": "stdout"
        }
      ]
    },
    {
      "cell_type": "code",
      "metadata": {
        "id": "ZzPNNK1cLTIE",
        "colab_type": "code",
        "outputId": "1203f8a1-42e1-4e71-b488-f219f9697e3c",
        "colab": {
          "base_uri": "https://localhost:8080/",
          "height": 153
        }
      },
      "source": [
        "#For loop for iterating through a list\n",
        "list = [5,6,7,8]\n",
        "for x in list:\n",
        "  print(x)\n",
        "  \n",
        "#For list of strings\n",
        "list = [\"Harish\", \"Amit\", \"Suyash\", \"Akash\"]\n",
        "for x in range(len(list)):\n",
        "  print(list[x])"
      ],
      "execution_count": 0,
      "outputs": [
        {
          "output_type": "stream",
          "text": [
            "5\n",
            "6\n",
            "7\n",
            "8\n",
            "Harish\n",
            "Amit\n",
            "Suyash\n",
            "Akash\n"
          ],
          "name": "stdout"
        }
      ]
    },
    {
      "cell_type": "markdown",
      "metadata": {
        "id": "LvZmB-ZpMsKz",
        "colab_type": "text"
      },
      "source": [
        "We can also combine else with for in python. After the execution of loop is over, the else will execute once at the last. See the example below: "
      ]
    },
    {
      "cell_type": "code",
      "metadata": {
        "id": "x9BRmfO9MhWH",
        "colab_type": "code",
        "outputId": "d5022753-0824-42bb-a71e-5bbdc381b82f",
        "colab": {
          "base_uri": "https://localhost:8080/",
          "height": 102
        }
      },
      "source": [
        "#For loop with ELSE statemnt\n",
        "for x in range(4):\n",
        "  print(x)\n",
        "else:\n",
        "  print(\"Iteration over.\")"
      ],
      "execution_count": 0,
      "outputs": [
        {
          "output_type": "stream",
          "text": [
            "0\n",
            "1\n",
            "2\n",
            "3\n",
            "Iteration over.\n"
          ],
          "name": "stdout"
        }
      ]
    },
    {
      "cell_type": "markdown",
      "metadata": {
        "id": "hMbfhg8Z2gDf",
        "colab_type": "text"
      },
      "source": [
        "**2. WHILE loop**\n",
        "\n",
        "\n",
        "\n",
        "```\n",
        "while test expression:\n",
        "  body of while loop\n",
        "```\n",
        "\n",
        "The body of loop executes when the test expression is true. After one iteration, it checks test expression again and it breaks when the test expression is false\n",
        "\n",
        "\n",
        "\n",
        "\n"
      ]
    },
    {
      "cell_type": "code",
      "metadata": {
        "id": "jtQ-5Tgq3HVG",
        "colab_type": "code",
        "outputId": "e806c7a2-13a1-4968-af4c-c6dad35bfec7",
        "colab": {
          "base_uri": "https://localhost:8080/",
          "height": 102
        }
      },
      "source": [
        "#Example for for loop\n",
        "x = 0;\n",
        "while x < 5:\n",
        "  x+=1\n",
        "  print(x)"
      ],
      "execution_count": 0,
      "outputs": [
        {
          "output_type": "stream",
          "text": [
            "1\n",
            "2\n",
            "3\n",
            "4\n",
            "5\n"
          ],
          "name": "stdout"
        }
      ]
    },
    {
      "cell_type": "markdown",
      "metadata": {
        "id": "nLk49PeK38de",
        "colab_type": "text"
      },
      "source": [
        "Just like for loop, there is also a **while** loop with **else** in python. When the test expression of loop fails, it execute **else** part once. When we exit loop with the help of **break**, the **else** is ignored."
      ]
    },
    {
      "cell_type": "code",
      "metadata": {
        "id": "_GhG8cCR4DSx",
        "colab_type": "code",
        "outputId": "0f2e7096-7fe5-42e3-cdbe-44adeca5b50e",
        "colab": {
          "base_uri": "https://localhost:8080/",
          "height": 119
        }
      },
      "source": [
        "#Example for for loop with else\n",
        "x = 0;\n",
        "while x < 5:\n",
        "  x+=1\n",
        "  print(x)\n",
        "else:\n",
        "  print(\"Loop is finished\")"
      ],
      "execution_count": 0,
      "outputs": [
        {
          "output_type": "stream",
          "text": [
            "1\n",
            "2\n",
            "3\n",
            "4\n",
            "5\n",
            "Loop is finished\n"
          ],
          "name": "stdout"
        }
      ]
    },
    {
      "cell_type": "markdown",
      "metadata": {
        "id": "eyHTTwp251za",
        "colab_type": "text"
      },
      "source": [
        "#**break and continue**\n",
        "\n",
        "\n",
        "\n",
        "*   Can alter the flow of a normal loop\n",
        "*   When we wish to terminate the loop without test expression being false, we use break.\n",
        "*   When we wish to move the loop to the next iteration without it being complete we use continue\n",
        "\n",
        "**1. Python break keyword**\n",
        "\n",
        "\n",
        "\n",
        "```\n",
        "loop test expression: \n",
        "  body of loop\n",
        "  if test expression:\n",
        "    break\n",
        "  else:\n",
        "    body of else\n",
        "```\n",
        "\n",
        "\n",
        "\n"
      ]
    },
    {
      "cell_type": "code",
      "metadata": {
        "id": "bSVrgDMz67-P",
        "colab_type": "code",
        "outputId": "06d221e8-af25-4107-bada-0b1f374cee23",
        "colab": {
          "base_uri": "https://localhost:8080/",
          "height": 85
        }
      },
      "source": [
        "#Example of break\n",
        "x = [1,2,3,4,6,7,8,10]\n",
        "for arr in x:\n",
        "  print(arr)\n",
        "  if arr == 4:\n",
        "    break\n",
        "#The loop will be terminated without full execution when the list item contains \n",
        "#value \"4\""
      ],
      "execution_count": 0,
      "outputs": [
        {
          "output_type": "stream",
          "text": [
            "1\n",
            "2\n",
            "3\n",
            "4\n"
          ],
          "name": "stdout"
        }
      ]
    },
    {
      "cell_type": "markdown",
      "metadata": {
        "id": "XLwZH_dK7hYm",
        "colab_type": "text"
      },
      "source": [
        "**2. Python continue Keyword**\n",
        "\n",
        "\n",
        "\n",
        "```\n",
        "loop test expression:\n",
        "  if test expression:\n",
        "    continue\n",
        "  else:\n",
        "    body of else\n",
        "```\n",
        "\n"
      ]
    },
    {
      "cell_type": "code",
      "metadata": {
        "id": "NpIEBBHW7z5N",
        "colab_type": "code",
        "outputId": "04005195-c474-4564-d93c-f2b17aa63960",
        "colab": {
          "base_uri": "https://localhost:8080/",
          "height": 102
        }
      },
      "source": [
        "#Example of code\n",
        "arr = [1,2,3,4,5]\n",
        "for x in arr:\n",
        "  if x == 4:\n",
        "    print(\"Dont print x when x == 4\")\n",
        "    continue\n",
        "  print(x)"
      ],
      "execution_count": 0,
      "outputs": [
        {
          "output_type": "stream",
          "text": [
            "1\n",
            "2\n",
            "3\n",
            "Dont print x when x == 4\n",
            "5\n"
          ],
          "name": "stdout"
        }
      ]
    }
  ]
}